{
  "nbformat": 4,
  "nbformat_minor": 0,
  "metadata": {
    "colab": {
      "name": "create_reviews_df.ipynb",
      "provenance": [],
      "collapsed_sections": [
        "Qa2oM1iWu2gZ",
        "vDogUiayu6m0"
      ],
      "toc_visible": true
    },
    "kernelspec": {
      "name": "python3",
      "display_name": "Python 3",
      "language": "python"
    }
  },
  "cells": [
    {
      "cell_type": "markdown",
      "metadata": {
        "id": "T0Q-rFeDurJx"
      },
      "source": [
        "# 設定とか諸々"
      ]
    },
    {
      "cell_type": "code",
      "execution_count": null,
      "metadata": {},
      "outputs": [],
      "source": [
        "### 初回のみ実行\n",
        "!pip install japanize-matplotlib\n",
        "!pip install numexpr"
      ]
    },
    {
      "cell_type": "code",
      "metadata": {
        "id": "_faos22-mpiT"
      },
      "source": [
        "import pandas as pd\n",
        "import numpy as np\n",
        "import matplotlib.pyplot as plt\n",
        "import japanize_matplotlib\n",
        "%matplotlib inline\n",
        "import requests\n",
        "import json\n",
        "import time\n",
        "import random"
      ],
      "execution_count": null,
      "outputs": []
    },
    {
      "cell_type": "code",
      "metadata": {
        "id": "PTU9xpSRo34a"
      },
      "source": [
        "def setNext_url(url, page):\n",
        "  return f'{url}&page={page}'"
      ],
      "execution_count": null,
      "outputs": []
    },
    {
      "cell_type": "markdown",
      "metadata": {
        "id": "kV5-PanguyqE"
      },
      "source": [
        "# DF読み込み"
      ]
    },
    {
      "cell_type": "code",
      "metadata": {
        "id": "JrCDOMaMbCLq",
        "colab": {
          "base_uri": "https://localhost:8080/",
          "height": 1000
        },
        "outputId": "f1c45176-3994-46d7-9f18-b6565205d041"
      },
      "source": [
        "df = pd.read_csv('./movies_df/movies.csv', engine='python')\n",
        "genre_df = pd.read_csv('./movies_df/genres.csv')\n",
        "df.head(10)"
      ],
      "execution_count": null,
      "outputs": [
        {
          "output_type": "execute_result",
          "data": {
            "text/html": [
              "<div>\n",
              "<style scoped>\n",
              "    .dataframe tbody tr th:only-of-type {\n",
              "        vertical-align: middle;\n",
              "    }\n",
              "\n",
              "    .dataframe tbody tr th {\n",
              "        vertical-align: top;\n",
              "    }\n",
              "\n",
              "    .dataframe thead th {\n",
              "        text-align: right;\n",
              "    }\n",
              "</style>\n",
              "<table border=\"1\" class=\"dataframe\">\n",
              "  <thead>\n",
              "    <tr style=\"text-align: right;\">\n",
              "      <th></th>\n",
              "      <th>id</th>\n",
              "      <th>title</th>\n",
              "      <th>popularity</th>\n",
              "      <th>date</th>\n",
              "      <th>vote_count</th>\n",
              "      <th>vote_average</th>\n",
              "      <th>overview</th>\n",
              "      <th>poster_path</th>\n",
              "    </tr>\n",
              "  </thead>\n",
              "  <tbody>\n",
              "    <tr>\n",
              "      <th>0</th>\n",
              "      <td>761053</td>\n",
              "      <td>Gabriel's Inferno Part III</td>\n",
              "      <td>36.282</td>\n",
              "      <td>2020-11-19</td>\n",
              "      <td>698.0</td>\n",
              "      <td>8.9</td>\n",
              "      <td>NaN</td>\n",
              "      <td>/fYtHxTxlhzD4QWfEbrC1rypysSD.jpg</td>\n",
              "    </tr>\n",
              "    <tr>\n",
              "      <th>1</th>\n",
              "      <td>724089</td>\n",
              "      <td>Gabriel's Inferno Part II</td>\n",
              "      <td>8.849</td>\n",
              "      <td>2020-07-31</td>\n",
              "      <td>1161.0</td>\n",
              "      <td>8.8</td>\n",
              "      <td>NaN</td>\n",
              "      <td>/pci1ArYW7oJ2eyTo2NMYEKHHiCP.jpg</td>\n",
              "    </tr>\n",
              "    <tr>\n",
              "      <th>2</th>\n",
              "      <td>19404</td>\n",
              "      <td>シャー・ルク・カーンのDDLJ／ラブゲット大作戦</td>\n",
              "      <td>15.261</td>\n",
              "      <td>1995-10-20</td>\n",
              "      <td>2638.0</td>\n",
              "      <td>8.8</td>\n",
              "      <td>シムランは22年前に一家でロンドンに移住してきたインド人の女の子。ある日、父のバルデーウ宛に...</td>\n",
              "      <td>/4Box84D6a7Mfa6ZMmC1B246GBQq.jpg</td>\n",
              "    </tr>\n",
              "    <tr>\n",
              "      <th>3</th>\n",
              "      <td>696374</td>\n",
              "      <td>Gabriel's Inferno</td>\n",
              "      <td>13.298</td>\n",
              "      <td>2020-05-29</td>\n",
              "      <td>1922.0</td>\n",
              "      <td>8.7</td>\n",
              "      <td>NaN</td>\n",
              "      <td>/oyG9TL7FcRP4EZ9Vid6uKzwdndz.jpg</td>\n",
              "    </tr>\n",
              "    <tr>\n",
              "      <th>4</th>\n",
              "      <td>278</td>\n",
              "      <td>ショーシャンクの空に</td>\n",
              "      <td>51.057</td>\n",
              "      <td>1994-09-23</td>\n",
              "      <td>18280.0</td>\n",
              "      <td>8.7</td>\n",
              "      <td>妻とその愛人を射殺したかどでショーシャンク刑務所送りとなった銀行家アンディ。初めは戸惑ってい...</td>\n",
              "      <td>/5NyJbE7JVfDJtP7c4CQzxgCLHFY.jpg</td>\n",
              "    </tr>\n",
              "    <tr>\n",
              "      <th>5</th>\n",
              "      <td>238</td>\n",
              "      <td>ゴッドファーザー</td>\n",
              "      <td>48.127</td>\n",
              "      <td>1972-03-14</td>\n",
              "      <td>13811.0</td>\n",
              "      <td>8.7</td>\n",
              "      <td>シシリーからアメリカに移住し、一代で財を成したドン・コルレオーネ。三男のマイケルはひとり堅気...</td>\n",
              "      <td>/mLu2p6affykeVfe9uWFAppiRQUk.jpg</td>\n",
              "    </tr>\n",
              "    <tr>\n",
              "      <th>6</th>\n",
              "      <td>424</td>\n",
              "      <td>シンドラーのリスト</td>\n",
              "      <td>28.874</td>\n",
              "      <td>1993-11-30</td>\n",
              "      <td>11006.0</td>\n",
              "      <td>8.6</td>\n",
              "      <td>1939年、ポーランド南部の都市クラクフにドイツ軍が侵攻した。ドイツ人実業家のオスカー・シン...</td>\n",
              "      <td>/sF1U4EUQS8YHUYjNl3pMGNIQyr0.jpg</td>\n",
              "    </tr>\n",
              "    <tr>\n",
              "      <th>7</th>\n",
              "      <td>372058</td>\n",
              "      <td>君の名は。</td>\n",
              "      <td>113.205</td>\n",
              "      <td>2016-08-26</td>\n",
              "      <td>7093.0</td>\n",
              "      <td>8.6</td>\n",
              "      <td>1,000年に1度のすい星来訪が、1か月後に迫る日本。山々に囲まれた田舎町に住む女子高生の三...</td>\n",
              "      <td>/iaiy3tg9QVkDpObm1IGqmbC9A5C.jpg</td>\n",
              "    </tr>\n",
              "    <tr>\n",
              "      <th>8</th>\n",
              "      <td>240</td>\n",
              "      <td>ゴッドファーザー PART II</td>\n",
              "      <td>33.548</td>\n",
              "      <td>1974-12-20</td>\n",
              "      <td>8242.0</td>\n",
              "      <td>8.6</td>\n",
              "      <td>亡き父のあとを継ぎドンとなったマイケルの苦悩と復讐を、父ビトーの少年時代からやがて一大ファミ...</td>\n",
              "      <td>/hqsTp0ysGUU4RsRDlJUz9LhykHJ.jpg</td>\n",
              "    </tr>\n",
              "    <tr>\n",
              "      <th>9</th>\n",
              "      <td>129</td>\n",
              "      <td>千と千尋の神隠し</td>\n",
              "      <td>73.818</td>\n",
              "      <td>2001-07-20</td>\n",
              "      <td>10912.0</td>\n",
              "      <td>8.5</td>\n",
              "      <td>両親と共に引越し先の新しい家へ向かう10歳の少女、千尋。しかし彼女はこれから始まる新しい生活...</td>\n",
              "      <td>/8TEs6twIANAc2qiU8m17JO8Ujcx.jpg</td>\n",
              "    </tr>\n",
              "  </tbody>\n",
              "</table>\n",
              "</div>"
            ],
            "text/plain": [
              "       id  ...                       poster_path\n",
              "0  761053  ...  /fYtHxTxlhzD4QWfEbrC1rypysSD.jpg\n",
              "1  724089  ...  /pci1ArYW7oJ2eyTo2NMYEKHHiCP.jpg\n",
              "2   19404  ...  /4Box84D6a7Mfa6ZMmC1B246GBQq.jpg\n",
              "3  696374  ...  /oyG9TL7FcRP4EZ9Vid6uKzwdndz.jpg\n",
              "4     278  ...  /5NyJbE7JVfDJtP7c4CQzxgCLHFY.jpg\n",
              "5     238  ...  /mLu2p6affykeVfe9uWFAppiRQUk.jpg\n",
              "6     424  ...  /sF1U4EUQS8YHUYjNl3pMGNIQyr0.jpg\n",
              "7  372058  ...  /iaiy3tg9QVkDpObm1IGqmbC9A5C.jpg\n",
              "8     240  ...  /hqsTp0ysGUU4RsRDlJUz9LhykHJ.jpg\n",
              "9     129  ...  /8TEs6twIANAc2qiU8m17JO8Ujcx.jpg\n",
              "\n",
              "[10 rows x 8 columns]"
            ]
          },
          "metadata": {
            "tags": []
          },
          "execution_count": 7
        }
      ]
    },
    {
      "cell_type": "markdown",
      "metadata": {
        "id": "Qa2oM1iWu2gZ"
      },
      "source": [
        "# dfの分析"
      ]
    },
    {
      "cell_type": "code",
      "metadata": {
        "colab": {
          "base_uri": "https://localhost:8080/",
          "height": 937
        },
        "id": "l5xP1wTBx9Hw",
        "outputId": "dc6317be-0318-467f-a4d0-a4a8168832bc"
      },
      "source": [
        "df.query(' 8.0 < vote_average ').sample(n=10)"
      ],
      "execution_count": null,
      "outputs": [
        {
          "output_type": "execute_result",
          "data": {
            "text/html": [
              "<div>\n",
              "<style scoped>\n",
              "    .dataframe tbody tr th:only-of-type {\n",
              "        vertical-align: middle;\n",
              "    }\n",
              "\n",
              "    .dataframe tbody tr th {\n",
              "        vertical-align: top;\n",
              "    }\n",
              "\n",
              "    .dataframe thead th {\n",
              "        text-align: right;\n",
              "    }\n",
              "</style>\n",
              "<table border=\"1\" class=\"dataframe\">\n",
              "  <thead>\n",
              "    <tr style=\"text-align: right;\">\n",
              "      <th></th>\n",
              "      <th>id</th>\n",
              "      <th>title</th>\n",
              "      <th>popularity</th>\n",
              "      <th>date</th>\n",
              "      <th>vote_count</th>\n",
              "      <th>vote_average</th>\n",
              "      <th>overview</th>\n",
              "      <th>poster_path</th>\n",
              "    </tr>\n",
              "  </thead>\n",
              "  <tbody>\n",
              "    <tr>\n",
              "      <th>62</th>\n",
              "      <td>157336</td>\n",
              "      <td>インターステラー</td>\n",
              "      <td>104.527</td>\n",
              "      <td>2014-11-05</td>\n",
              "      <td>25048</td>\n",
              "      <td>8.3</td>\n",
              "      <td>近未来の地球では植物の枯死、異常気象により人類は滅亡の危機に立たされていた。元宇宙飛行士クー...</td>\n",
              "      <td>/rgoNKrN5oEWIpfM6ZSPORbB2NYf.jpg</td>\n",
              "    </tr>\n",
              "    <tr>\n",
              "      <th>66</th>\n",
              "      <td>101</td>\n",
              "      <td>レオン</td>\n",
              "      <td>46.768</td>\n",
              "      <td>1994-09-14</td>\n",
              "      <td>10498</td>\n",
              "      <td>8.3</td>\n",
              "      <td>リュック・ベッソンが初めてアメリカで製作したバイオレンス・アクション。ニューヨークを舞台に、...</td>\n",
              "      <td>/82MD4KTzz0dVNYx9Mpu48ALA0ll.jpg</td>\n",
              "    </tr>\n",
              "    <tr>\n",
              "      <th>184</th>\n",
              "      <td>9702</td>\n",
              "      <td>Bound by Honor</td>\n",
              "      <td>39.344</td>\n",
              "      <td>1993-02-05</td>\n",
              "      <td>693</td>\n",
              "      <td>8.1</td>\n",
              "      <td></td>\n",
              "      <td>/gvP6R6juhe2IpCG7QGDgjyUvm0g.jpg</td>\n",
              "    </tr>\n",
              "    <tr>\n",
              "      <th>185</th>\n",
              "      <td>310569</td>\n",
              "      <td>Que Horas Ela Volta?</td>\n",
              "      <td>7.483</td>\n",
              "      <td>2015-02-08</td>\n",
              "      <td>502</td>\n",
              "      <td>8.1</td>\n",
              "      <td></td>\n",
              "      <td>/bxyeCyzS8gARxC7fhCX2dlG3Qgm.jpg</td>\n",
              "    </tr>\n",
              "    <tr>\n",
              "      <th>177</th>\n",
              "      <td>667520</td>\n",
              "      <td>泣きたい私は猫をかぶる</td>\n",
              "      <td>68.489</td>\n",
              "      <td>2020-06-18</td>\n",
              "      <td>674</td>\n",
              "      <td>8.1</td>\n",
              "      <td>笹木美代（ささき・みよ）は、いつも明るく陽気な中学二年生の女の子。空気を読まない言動で周囲を...</td>\n",
              "      <td>/75hyeJQwa6Q4CDF4g99GYq2WVLK.jpg</td>\n",
              "    </tr>\n",
              "    <tr>\n",
              "      <th>23</th>\n",
              "      <td>769</td>\n",
              "      <td>グッドフェローズ</td>\n",
              "      <td>33.880</td>\n",
              "      <td>1990-09-12</td>\n",
              "      <td>8555</td>\n",
              "      <td>8.4</td>\n",
              "      <td>ヘンリー・ヒル、1943年ブルックリン生まれ。大物ギャング、ポーリーのアジトで育った彼は、物...</td>\n",
              "      <td>/vRjF27uwXOu71tzCFOvvCScX9VI.jpg</td>\n",
              "    </tr>\n",
              "    <tr>\n",
              "      <th>37</th>\n",
              "      <td>4935</td>\n",
              "      <td>ハウルの動く城</td>\n",
              "      <td>45.281</td>\n",
              "      <td>2004-11-19</td>\n",
              "      <td>6083</td>\n",
              "      <td>8.4</td>\n",
              "      <td>父親の帽子店で帽子を作って暮らしていた18歳のソフィーは、荒野の魔女の呪いで90歳の老婆の姿...</td>\n",
              "      <td>/kt2lodzyp1DMCSuH5UUw8nGzfh9.jpg</td>\n",
              "    </tr>\n",
              "    <tr>\n",
              "      <th>81</th>\n",
              "      <td>797</td>\n",
              "      <td>仮面/ペルソナ</td>\n",
              "      <td>17.406</td>\n",
              "      <td>1966-10-18</td>\n",
              "      <td>1273</td>\n",
              "      <td>8.3</td>\n",
              "      <td></td>\n",
              "      <td>/bjPo1GDN1DaXcg8ecSzwLTLdbbv.jpg</td>\n",
              "    </tr>\n",
              "    <tr>\n",
              "      <th>115</th>\n",
              "      <td>705</td>\n",
              "      <td>イヴの総て</td>\n",
              "      <td>17.286</td>\n",
              "      <td>1950-10-06</td>\n",
              "      <td>998</td>\n",
              "      <td>8.2</td>\n",
              "      <td>ある日、新進女優イヴ・ハリントンはアメリカ演劇界の栄えある賞に輝いた。だが、彼女がここまで上...</td>\n",
              "      <td>/rqXgpuOOnO0vxw1EHDA3DssNMgA.jpg</td>\n",
              "    </tr>\n",
              "    <tr>\n",
              "      <th>13</th>\n",
              "      <td>680</td>\n",
              "      <td>パルプ・フィクション</td>\n",
              "      <td>46.459</td>\n",
              "      <td>1994-09-10</td>\n",
              "      <td>20536</td>\n",
              "      <td>8.5</td>\n",
              "      <td>強盗の計画を立てているカップルを導入部に、盗まれたトランクを取り戻そうとする二人組のギャング...</td>\n",
              "      <td>/zfbioY0VoORe1hBveFNX8wzyrf9.jpg</td>\n",
              "    </tr>\n",
              "  </tbody>\n",
              "</table>\n",
              "</div>"
            ],
            "text/plain": [
              "         id  ...                       poster_path\n",
              "62   157336  ...  /rgoNKrN5oEWIpfM6ZSPORbB2NYf.jpg\n",
              "66      101  ...  /82MD4KTzz0dVNYx9Mpu48ALA0ll.jpg\n",
              "184    9702  ...  /gvP6R6juhe2IpCG7QGDgjyUvm0g.jpg\n",
              "185  310569  ...  /bxyeCyzS8gARxC7fhCX2dlG3Qgm.jpg\n",
              "177  667520  ...  /75hyeJQwa6Q4CDF4g99GYq2WVLK.jpg\n",
              "23      769  ...  /vRjF27uwXOu71tzCFOvvCScX9VI.jpg\n",
              "37     4935  ...  /kt2lodzyp1DMCSuH5UUw8nGzfh9.jpg\n",
              "81      797  ...  /bjPo1GDN1DaXcg8ecSzwLTLdbbv.jpg\n",
              "115     705  ...  /rqXgpuOOnO0vxw1EHDA3DssNMgA.jpg\n",
              "13      680  ...  /zfbioY0VoORe1hBveFNX8wzyrf9.jpg\n",
              "\n",
              "[10 rows x 8 columns]"
            ]
          },
          "metadata": {
            "tags": []
          },
          "execution_count": 6
        }
      ]
    },
    {
      "cell_type": "code",
      "metadata": {
        "colab": {
          "base_uri": "https://localhost:8080/"
        },
        "id": "wWH3hV-vvHv1",
        "outputId": "523a8bac-91fd-4b63-a804-222e77360b3a"
      },
      "source": [
        "len(df)"
      ],
      "execution_count": null,
      "outputs": [
        {
          "output_type": "execute_result",
          "data": {
            "text/plain": [
              "5471"
            ]
          },
          "metadata": {
            "tags": []
          },
          "execution_count": 18
        }
      ]
    },
    {
      "cell_type": "code",
      "metadata": {
        "colab": {
          "base_uri": "https://localhost:8080/"
        },
        "id": "87_1lp5py9Fa",
        "outputId": "951b0a83-62a6-44cb-c145-8cf2461123cb"
      },
      "source": [
        "df.info()"
      ],
      "execution_count": null,
      "outputs": [
        {
          "output_type": "stream",
          "text": [
            "<class 'pandas.core.frame.DataFrame'>\n",
            "RangeIndex: 5463 entries, 0 to 5462\n",
            "Data columns (total 8 columns):\n",
            " #   Column        Non-Null Count  Dtype  \n",
            "---  ------        --------------  -----  \n",
            " 0   id            5463 non-null   int64  \n",
            " 1   title         5463 non-null   object \n",
            " 2   popularity    5463 non-null   float64\n",
            " 3   date          5463 non-null   object \n",
            " 4   vote_count    5463 non-null   int64  \n",
            " 5   vote_average  5463 non-null   float64\n",
            " 6   overview      5463 non-null   object \n",
            " 7   poster_path   5463 non-null   object \n",
            "dtypes: float64(2), int64(2), object(4)\n",
            "memory usage: 341.6+ KB\n"
          ],
          "name": "stdout"
        }
      ]
    },
    {
      "cell_type": "code",
      "metadata": {
        "colab": {
          "base_uri": "https://localhost:8080/",
          "height": 297
        },
        "id": "WePg36DmzA60",
        "outputId": "f2afc102-2180-4f64-f96d-c346c592fb39"
      },
      "source": [
        "df.describe()"
      ],
      "execution_count": null,
      "outputs": [
        {
          "output_type": "execute_result",
          "data": {
            "text/html": [
              "<div>\n",
              "<style scoped>\n",
              "    .dataframe tbody tr th:only-of-type {\n",
              "        vertical-align: middle;\n",
              "    }\n",
              "\n",
              "    .dataframe tbody tr th {\n",
              "        vertical-align: top;\n",
              "    }\n",
              "\n",
              "    .dataframe thead th {\n",
              "        text-align: right;\n",
              "    }\n",
              "</style>\n",
              "<table border=\"1\" class=\"dataframe\">\n",
              "  <thead>\n",
              "    <tr style=\"text-align: right;\">\n",
              "      <th></th>\n",
              "      <th>id</th>\n",
              "      <th>popularity</th>\n",
              "      <th>vote_count</th>\n",
              "      <th>vote_average</th>\n",
              "    </tr>\n",
              "  </thead>\n",
              "  <tbody>\n",
              "    <tr>\n",
              "      <th>count</th>\n",
              "      <td>5463.000000</td>\n",
              "      <td>5463.000000</td>\n",
              "      <td>5463.000000</td>\n",
              "      <td>5463.000000</td>\n",
              "    </tr>\n",
              "    <tr>\n",
              "      <th>mean</th>\n",
              "      <td>125471.233205</td>\n",
              "      <td>29.242878</td>\n",
              "      <td>2138.465495</td>\n",
              "      <td>6.672890</td>\n",
              "    </tr>\n",
              "    <tr>\n",
              "      <th>std</th>\n",
              "      <td>172376.876994</td>\n",
              "      <td>53.929998</td>\n",
              "      <td>2820.188624</td>\n",
              "      <td>0.808613</td>\n",
              "    </tr>\n",
              "    <tr>\n",
              "      <th>min</th>\n",
              "      <td>5.000000</td>\n",
              "      <td>0.600000</td>\n",
              "      <td>400.000000</td>\n",
              "      <td>2.800000</td>\n",
              "    </tr>\n",
              "    <tr>\n",
              "      <th>25%</th>\n",
              "      <td>8487.500000</td>\n",
              "      <td>15.305000</td>\n",
              "      <td>618.000000</td>\n",
              "      <td>6.100000</td>\n",
              "    </tr>\n",
              "    <tr>\n",
              "      <th>50%</th>\n",
              "      <td>16642.000000</td>\n",
              "      <td>19.737000</td>\n",
              "      <td>1048.000000</td>\n",
              "      <td>6.700000</td>\n",
              "    </tr>\n",
              "    <tr>\n",
              "      <th>75%</th>\n",
              "      <td>242735.500000</td>\n",
              "      <td>28.880000</td>\n",
              "      <td>2374.500000</td>\n",
              "      <td>7.300000</td>\n",
              "    </tr>\n",
              "    <tr>\n",
              "      <th>max</th>\n",
              "      <td>775996.000000</td>\n",
              "      <td>2253.729000</td>\n",
              "      <td>28399.000000</td>\n",
              "      <td>8.900000</td>\n",
              "    </tr>\n",
              "  </tbody>\n",
              "</table>\n",
              "</div>"
            ],
            "text/plain": [
              "                  id   popularity    vote_count  vote_average\n",
              "count    5463.000000  5463.000000   5463.000000   5463.000000\n",
              "mean   125471.233205    29.242878   2138.465495      6.672890\n",
              "std    172376.876994    53.929998   2820.188624      0.808613\n",
              "min         5.000000     0.600000    400.000000      2.800000\n",
              "25%      8487.500000    15.305000    618.000000      6.100000\n",
              "50%     16642.000000    19.737000   1048.000000      6.700000\n",
              "75%    242735.500000    28.880000   2374.500000      7.300000\n",
              "max    775996.000000  2253.729000  28399.000000      8.900000"
            ]
          },
          "metadata": {
            "tags": []
          },
          "execution_count": 9
        }
      ]
    },
    {
      "cell_type": "code",
      "metadata": {
        "colab": {
          "base_uri": "https://localhost:8080/",
          "height": 691
        },
        "id": "36faNWs6vI6Y",
        "outputId": "1098e1b1-8ba7-48a8-a39d-19bd135b7bea"
      },
      "source": [
        "df.hist(bins=50, figsize=(10, 10))"
      ],
      "execution_count": null,
      "outputs": [
        {
          "output_type": "execute_result",
          "data": {
            "text/plain": [
              "array([[<matplotlib.axes._subplots.AxesSubplot object at 0x7faa856b1160>,\n",
              "        <matplotlib.axes._subplots.AxesSubplot object at 0x7faa85602438>],\n",
              "       [<matplotlib.axes._subplots.AxesSubplot object at 0x7faa856366a0>,\n",
              "        <matplotlib.axes._subplots.AxesSubplot object at 0x7faa855e6908>]],\n",
              "      dtype=object)"
            ]
          },
          "metadata": {
            "tags": []
          },
          "execution_count": 10
        },
        {
          "output_type": "display_data",
          "data": {
            "image/png": "[encoded data removed]",
            "text/plain": [
              "<Figure size 720x720 with 4 Axes>"
            ]
          },
          "metadata": {
            "tags": [],
            "needs_background": "light"
          }
        }
      ]
    },
    {
      "cell_type": "code",
      "metadata": {
        "colab": {
          "base_uri": "https://localhost:8080/",
          "height": 914
        },
        "id": "1LhyxyPsx7oI",
        "outputId": "eecc9c1e-fe08-4405-a829-51c5499e442f"
      },
      "source": [
        "pd.plotting.scatter_matrix(df, diagonal='kde', figsize=(10, 10))"
      ],
      "execution_count": null,
      "outputs": [
        {
          "output_type": "execute_result",
          "data": {
            "text/plain": [
              "array([[<matplotlib.axes._subplots.AxesSubplot object at 0x7faa852a7358>,\n",
              "        <matplotlib.axes._subplots.AxesSubplot object at 0x7faa84e22c88>,\n",
              "        <matplotlib.axes._subplots.AxesSubplot object at 0x7faa84dc3ef0>,\n",
              "        <matplotlib.axes._subplots.AxesSubplot object at 0x7faa84d85198>],\n",
              "       [<matplotlib.axes._subplots.AxesSubplot object at 0x7faa84d38400>,\n",
              "        <matplotlib.axes._subplots.AxesSubplot object at 0x7faa84d68828>,\n",
              "        <matplotlib.axes._subplots.AxesSubplot object at 0x7faa84d1aba8>,\n",
              "        <matplotlib.axes._subplots.AxesSubplot object at 0x7faa84cceef0>],\n",
              "       [<matplotlib.axes._subplots.AxesSubplot object at 0x7faa84ccef60>,\n",
              "        <matplotlib.axes._subplots.AxesSubplot object at 0x7faa84c3e668>,\n",
              "        <matplotlib.axes._subplots.AxesSubplot object at 0x7faa84c719e8>,\n",
              "        <matplotlib.axes._subplots.AxesSubplot object at 0x7faa84c20d68>],\n",
              "       [<matplotlib.axes._subplots.AxesSubplot object at 0x7faa84be2128>,\n",
              "        <matplotlib.axes._subplots.AxesSubplot object at 0x7faa84b954a8>,\n",
              "        <matplotlib.axes._subplots.AxesSubplot object at 0x7faa84b44828>,\n",
              "        <matplotlib.axes._subplots.AxesSubplot object at 0x7faa84af8ba8>]],\n",
              "      dtype=object)"
            ]
          },
          "metadata": {
            "tags": []
          },
          "execution_count": 11
        },
        {
          "output_type": "display_data",
          "data": {
            "image/png": "[encoded data removed]",
            "text/plain": [
              "<Figure size 720x720 with 16 Axes>"
            ]
          },
          "metadata": {
            "tags": [],
            "needs_background": "light"
          }
        }
      ]
    },
    {
      "cell_type": "markdown",
      "metadata": {
        "id": "vDogUiayu6m0"
      },
      "source": [
        "# genre_dfの分析"
      ]
    },
    {
      "cell_type": "code",
      "metadata": {
        "id": "K_JRW4f80Jqb",
        "colab": {
          "base_uri": "https://localhost:8080/",
          "height": 359
        },
        "outputId": "6d804079-e8e2-406c-9ca2-95bf7cbb2abf"
      },
      "source": [
        "genre_df.head(10)"
      ],
      "execution_count": null,
      "outputs": [
        {
          "output_type": "execute_result",
          "data": {
            "text/html": [
              "<div>\n",
              "<style scoped>\n",
              "    .dataframe tbody tr th:only-of-type {\n",
              "        vertical-align: middle;\n",
              "    }\n",
              "\n",
              "    .dataframe tbody tr th {\n",
              "        vertical-align: top;\n",
              "    }\n",
              "\n",
              "    .dataframe thead th {\n",
              "        text-align: right;\n",
              "    }\n",
              "</style>\n",
              "<table border=\"1\" class=\"dataframe\">\n",
              "  <thead>\n",
              "    <tr style=\"text-align: right;\">\n",
              "      <th></th>\n",
              "      <th>id</th>\n",
              "      <th>genre</th>\n",
              "    </tr>\n",
              "  </thead>\n",
              "  <tbody>\n",
              "    <tr>\n",
              "      <th>0</th>\n",
              "      <td>761053</td>\n",
              "      <td>10749</td>\n",
              "    </tr>\n",
              "    <tr>\n",
              "      <th>1</th>\n",
              "      <td>761053</td>\n",
              "      <td>35</td>\n",
              "    </tr>\n",
              "    <tr>\n",
              "      <th>2</th>\n",
              "      <td>724089</td>\n",
              "      <td>10749</td>\n",
              "    </tr>\n",
              "    <tr>\n",
              "      <th>3</th>\n",
              "      <td>19404</td>\n",
              "      <td>35</td>\n",
              "    </tr>\n",
              "    <tr>\n",
              "      <th>4</th>\n",
              "      <td>19404</td>\n",
              "      <td>18</td>\n",
              "    </tr>\n",
              "    <tr>\n",
              "      <th>5</th>\n",
              "      <td>19404</td>\n",
              "      <td>10749</td>\n",
              "    </tr>\n",
              "    <tr>\n",
              "      <th>6</th>\n",
              "      <td>696374</td>\n",
              "      <td>10749</td>\n",
              "    </tr>\n",
              "    <tr>\n",
              "      <th>7</th>\n",
              "      <td>278</td>\n",
              "      <td>18</td>\n",
              "    </tr>\n",
              "    <tr>\n",
              "      <th>8</th>\n",
              "      <td>278</td>\n",
              "      <td>80</td>\n",
              "    </tr>\n",
              "    <tr>\n",
              "      <th>9</th>\n",
              "      <td>238</td>\n",
              "      <td>18</td>\n",
              "    </tr>\n",
              "  </tbody>\n",
              "</table>\n",
              "</div>"
            ],
            "text/plain": [
              "       id  genre\n",
              "0  761053  10749\n",
              "1  761053     35\n",
              "2  724089  10749\n",
              "3   19404     35\n",
              "4   19404     18\n",
              "5   19404  10749\n",
              "6  696374  10749\n",
              "7     278     18\n",
              "8     278     80\n",
              "9     238     18"
            ]
          },
          "metadata": {
            "tags": []
          },
          "execution_count": 12
        }
      ]
    },
    {
      "cell_type": "code",
      "metadata": {
        "colab": {
          "base_uri": "https://localhost:8080/"
        },
        "id": "XxEzxq3X-H1b",
        "outputId": "8ab26284-cee0-4396-9267-44af81ecc388"
      },
      "source": [
        "genre_df.shape"
      ],
      "execution_count": null,
      "outputs": [
        {
          "output_type": "execute_result",
          "data": {
            "text/plain": [
              "(14526, 2)"
            ]
          },
          "metadata": {
            "tags": []
          },
          "execution_count": 13
        }
      ]
    },
    {
      "cell_type": "code",
      "metadata": {
        "colab": {
          "base_uri": "https://localhost:8080/",
          "height": 297
        },
        "id": "nyCzbYV6-MMG",
        "outputId": "bbfb942a-7fd6-4248-deeb-4b671c546e3f"
      },
      "source": [
        "genre_df.describe()"
      ],
      "execution_count": null,
      "outputs": [
        {
          "output_type": "execute_result",
          "data": {
            "text/html": [
              "<div>\n",
              "<style scoped>\n",
              "    .dataframe tbody tr th:only-of-type {\n",
              "        vertical-align: middle;\n",
              "    }\n",
              "\n",
              "    .dataframe tbody tr th {\n",
              "        vertical-align: top;\n",
              "    }\n",
              "\n",
              "    .dataframe thead th {\n",
              "        text-align: right;\n",
              "    }\n",
              "</style>\n",
              "<table border=\"1\" class=\"dataframe\">\n",
              "  <thead>\n",
              "    <tr style=\"text-align: right;\">\n",
              "      <th></th>\n",
              "      <th>id</th>\n",
              "      <th>genre</th>\n",
              "    </tr>\n",
              "  </thead>\n",
              "  <tbody>\n",
              "    <tr>\n",
              "      <th>count</th>\n",
              "      <td>14526.000000</td>\n",
              "      <td>14526.000000</td>\n",
              "    </tr>\n",
              "    <tr>\n",
              "      <th>mean</th>\n",
              "      <td>123203.500620</td>\n",
              "      <td>1822.479347</td>\n",
              "    </tr>\n",
              "    <tr>\n",
              "      <th>std</th>\n",
              "      <td>172315.181019</td>\n",
              "      <td>3895.219661</td>\n",
              "    </tr>\n",
              "    <tr>\n",
              "      <th>min</th>\n",
              "      <td>5.000000</td>\n",
              "      <td>12.000000</td>\n",
              "    </tr>\n",
              "    <tr>\n",
              "      <th>25%</th>\n",
              "      <td>8394.250000</td>\n",
              "      <td>18.000000</td>\n",
              "    </tr>\n",
              "    <tr>\n",
              "      <th>50%</th>\n",
              "      <td>15121.000000</td>\n",
              "      <td>35.000000</td>\n",
              "    </tr>\n",
              "    <tr>\n",
              "      <th>75%</th>\n",
              "      <td>238615.000000</td>\n",
              "      <td>80.000000</td>\n",
              "    </tr>\n",
              "    <tr>\n",
              "      <th>max</th>\n",
              "      <td>775996.000000</td>\n",
              "      <td>10770.000000</td>\n",
              "    </tr>\n",
              "  </tbody>\n",
              "</table>\n",
              "</div>"
            ],
            "text/plain": [
              "                  id         genre\n",
              "count   14526.000000  14526.000000\n",
              "mean   123203.500620   1822.479347\n",
              "std    172315.181019   3895.219661\n",
              "min         5.000000     12.000000\n",
              "25%      8394.250000     18.000000\n",
              "50%     15121.000000     35.000000\n",
              "75%    238615.000000     80.000000\n",
              "max    775996.000000  10770.000000"
            ]
          },
          "metadata": {
            "tags": []
          },
          "execution_count": 14
        }
      ]
    },
    {
      "cell_type": "code",
      "metadata": {
        "colab": {
          "base_uri": "https://localhost:8080/",
          "height": 661
        },
        "id": "gBdC25yt-T9o",
        "outputId": "975eafaa-aeaa-4f80-994c-308866e4db20"
      },
      "source": [
        "genre_dict = {'28': 'アクション', '12': 'アドベンチャー', '16': 'アニメーション', '35': 'コメディ', '80': 'クライム',\n",
        "              '99': 'ドキュメンタリー', '18': 'ドラマ', '10751': 'ファミリー', '14': 'ファンタジー',\n",
        "              '36': 'ヒストリー', '27': 'ホラー', '10402': '音楽', '9648': 'ミステリー',\n",
        "              '10749': 'ロマンス', '878': 'SF', '10770': 'テレビ映画', '53': 'スリラー',\n",
        "              '10752': '戦争', '37': '西部劇'\n",
        "}\n",
        "\n",
        "freq = genre_df['genre'].astype(str).replace(genre_dict).value_counts()\n",
        "freq_index = list(freq.index)\n",
        "freq_count = list(freq)\n",
        "\n",
        "plt.figure(figsize=(15,10))\n",
        "plt.xticks(rotation=45)\n",
        "plt.bar(freq_index, freq_count)"
      ],
      "execution_count": null,
      "outputs": [
        {
          "output_type": "execute_result",
          "data": {
            "text/plain": [
              "<BarContainer object of 19 artists>"
            ]
          },
          "metadata": {
            "tags": []
          },
          "execution_count": 15
        },
        {
          "output_type": "display_data",
          "data": {
            "image/png": "[encoded data removed]",
            "text/plain": [
              "<Figure size 1080x720 with 1 Axes>"
            ]
          },
          "metadata": {
            "tags": [],
            "needs_background": "light"
          }
        }
      ]
    },
    {
      "cell_type": "markdown",
      "metadata": {
        "id": "FcKndM1Wu-vl"
      },
      "source": [
        "# 各映画のレビューDF作成"
      ]
    },
    {
      "cell_type": "code",
      "metadata": {
        "id": "8blLEa4z59lw"
      },
      "source": [
        "df['date'] = pd.to_datetime(df['date'])"
      ],
      "execution_count": null,
      "outputs": []
    },
    {
      "cell_type": "code",
      "metadata": {
        "colab": {
          "base_uri": "https://localhost:8080/",
          "height": 1000
        },
        "id": "CnWFMMSCGmo1",
        "outputId": "d9400d92-6678-44af-d8a2-d80af57184c0"
      },
      "source": [
        "df.query(' date < \"2020-05-01\" ').reset_index(drop=True)[40:50]"
      ],
      "execution_count": null,
      "outputs": [
        {
          "output_type": "execute_result",
          "data": {
            "text/html": [
              "<div>\n",
              "<style scoped>\n",
              "    .dataframe tbody tr th:only-of-type {\n",
              "        vertical-align: middle;\n",
              "    }\n",
              "\n",
              "    .dataframe tbody tr th {\n",
              "        vertical-align: top;\n",
              "    }\n",
              "\n",
              "    .dataframe thead th {\n",
              "        text-align: right;\n",
              "    }\n",
              "</style>\n",
              "<table border=\"1\" class=\"dataframe\">\n",
              "  <thead>\n",
              "    <tr style=\"text-align: right;\">\n",
              "      <th></th>\n",
              "      <th>id</th>\n",
              "      <th>title</th>\n",
              "      <th>popularity</th>\n",
              "      <th>date</th>\n",
              "      <th>vote_count</th>\n",
              "      <th>vote_average</th>\n",
              "      <th>overview</th>\n",
              "      <th>poster_path</th>\n",
              "    </tr>\n",
              "  </thead>\n",
              "  <tbody>\n",
              "    <tr>\n",
              "      <th>40</th>\n",
              "      <td>3782</td>\n",
              "      <td>生きる</td>\n",
              "      <td>12.555</td>\n",
              "      <td>1952-10-09</td>\n",
              "      <td>629.0</td>\n",
              "      <td>8.4</td>\n",
              "      <td>市役所の市民課長・渡辺勘治は30年間無欠勤のまじめな男。ある日、渡辺は自分が胃癌であることを...</td>\n",
              "      <td>/uMaLKmpxepW4Uq8lcCpels656u0.jpg</td>\n",
              "    </tr>\n",
              "    <tr>\n",
              "      <th>41</th>\n",
              "      <td>423</td>\n",
              "      <td>戦場のピアニスト</td>\n",
              "      <td>23.614</td>\n",
              "      <td>2002-09-17</td>\n",
              "      <td>6065.0</td>\n",
              "      <td>8.4</td>\n",
              "      <td>ナチスのワルシャワ侵攻を目の当たりにし、死の収容所送りを奇跡的に逃れたシュピルマンは、ゲット...</td>\n",
              "      <td>/3DzePKMbLMIM636S6syCy3cLPqj.jpg</td>\n",
              "    </tr>\n",
              "    <tr>\n",
              "      <th>42</th>\n",
              "      <td>901</td>\n",
              "      <td>街の灯</td>\n",
              "      <td>12.987</td>\n",
              "      <td>1931-02-01</td>\n",
              "      <td>1355.0</td>\n",
              "      <td>8.4</td>\n",
              "      <td>世の中は極端に不景気。小男で風彩もあがらず、服装もみすぼらしく、職もなく住むところもないチャ...</td>\n",
              "      <td>/bXNvzjULc9jrOVhGfjcc64uKZmZ.jpg</td>\n",
              "    </tr>\n",
              "    <tr>\n",
              "      <th>43</th>\n",
              "      <td>567</td>\n",
              "      <td>裏窓</td>\n",
              "      <td>18.756</td>\n",
              "      <td>1954-09-01</td>\n",
              "      <td>4271.0</td>\n",
              "      <td>8.4</td>\n",
              "      <td>カメラマンのジェフは足を骨折し、ニューヨークはグリニッチ・ヴィレッジのアパートで療養中。身動...</td>\n",
              "      <td>/v1bKkjiZO0DamWqAGh2fLZYfFuQ.jpg</td>\n",
              "    </tr>\n",
              "    <tr>\n",
              "      <th>44</th>\n",
              "      <td>527641</td>\n",
              "      <td>Five Feet Apart</td>\n",
              "      <td>77.845</td>\n",
              "      <td>2019-03-15</td>\n",
              "      <td>3949.0</td>\n",
              "      <td>8.4</td>\n",
              "      <td>NaN</td>\n",
              "      <td>/kreTuJBkUjVWePRfhHZuYfhNE1T.jpg</td>\n",
              "    </tr>\n",
              "    <tr>\n",
              "      <th>45</th>\n",
              "      <td>18491</td>\n",
              "      <td>新世紀エヴァンゲリオン劇場版 Air／まごころを、君に - THE END OF EVANG...</td>\n",
              "      <td>30.491</td>\n",
              "      <td>1997-07-19</td>\n",
              "      <td>706.0</td>\n",
              "      <td>8.4</td>\n",
              "      <td>第25話「Air」 全ての使徒を倒したNERVに対し、サードインパクト発動を目論むゼーレが戦...</td>\n",
              "      <td>/vIWonMqeYRmY95OEk06NvTC1h8N.jpg</td>\n",
              "    </tr>\n",
              "    <tr>\n",
              "      <th>46</th>\n",
              "      <td>128</td>\n",
              "      <td>もののけ姫</td>\n",
              "      <td>34.630</td>\n",
              "      <td>1997-07-12</td>\n",
              "      <td>5390.0</td>\n",
              "      <td>8.3</td>\n",
              "      <td>山里に住む若者アシタカは、怒りと憎しみにより“タタリ神”と化した猪神から呪いをかけられてしま...</td>\n",
              "      <td>/k4HOqXsHwQBZslSCu2WSWLD2zgk.jpg</td>\n",
              "    </tr>\n",
              "    <tr>\n",
              "      <th>47</th>\n",
              "      <td>120</td>\n",
              "      <td>ロード・オブ・ザ・リング</td>\n",
              "      <td>86.224</td>\n",
              "      <td>2001-12-18</td>\n",
              "      <td>18608.0</td>\n",
              "      <td>8.3</td>\n",
              "      <td>はるか昔。闇の冥王サウロンは世界を滅ぼす魔力を秘めたひとつの指輪を作り出した。指輪の力に支配...</td>\n",
              "      <td>/3Y6AjrxjsQiQNcqjprQQc3CCQRn.jpg</td>\n",
              "    </tr>\n",
              "    <tr>\n",
              "      <th>48</th>\n",
              "      <td>975</td>\n",
              "      <td>突撃</td>\n",
              "      <td>12.965</td>\n",
              "      <td>1957-09-18</td>\n",
              "      <td>1787.0</td>\n",
              "      <td>8.3</td>\n",
              "      <td>第一次世界大戦、フランスの最大の課題はドイツ軍の撃退だった。そんな中、ダックス大佐はドイツ軍...</td>\n",
              "      <td>/Ad6WhONWzYruWk9mm6JZF2oZBwl.jpg</td>\n",
              "    </tr>\n",
              "    <tr>\n",
              "      <th>49</th>\n",
              "      <td>27205</td>\n",
              "      <td>インセプション</td>\n",
              "      <td>61.875</td>\n",
              "      <td>2010-07-15</td>\n",
              "      <td>28424.0</td>\n",
              "      <td>8.3</td>\n",
              "      <td>他人の夢に潜入してアイデアを盗み出す企業スパイのコブは国際指名手配犯であるが、それと同時に妻...</td>\n",
              "      <td>/qzb0slJerd5bQgJxteJ5oAmfp09.jpg</td>\n",
              "    </tr>\n",
              "  </tbody>\n",
              "</table>\n",
              "</div>"
            ],
            "text/plain": [
              "        id  ...                       poster_path\n",
              "40    3782  ...  /uMaLKmpxepW4Uq8lcCpels656u0.jpg\n",
              "41     423  ...  /3DzePKMbLMIM636S6syCy3cLPqj.jpg\n",
              "42     901  ...  /bXNvzjULc9jrOVhGfjcc64uKZmZ.jpg\n",
              "43     567  ...  /v1bKkjiZO0DamWqAGh2fLZYfFuQ.jpg\n",
              "44  527641  ...  /kreTuJBkUjVWePRfhHZuYfhNE1T.jpg\n",
              "45   18491  ...  /vIWonMqeYRmY95OEk06NvTC1h8N.jpg\n",
              "46     128  ...  /k4HOqXsHwQBZslSCu2WSWLD2zgk.jpg\n",
              "47     120  ...  /3Y6AjrxjsQiQNcqjprQQc3CCQRn.jpg\n",
              "48     975  ...  /Ad6WhONWzYruWk9mm6JZF2oZBwl.jpg\n",
              "49   27205  ...  /qzb0slJerd5bQgJxteJ5oAmfp09.jpg\n",
              "\n",
              "[10 rows x 8 columns]"
            ]
          },
          "metadata": {
            "tags": []
          },
          "execution_count": 10
        }
      ]
    },
    {
      "cell_type": "code",
      "metadata": {
        "id": "kliXkKQ5-jb7",
        "colab": {
          "base_uri": "https://localhost:8080/"
        },
        "outputId": "64c99494-2860-4166-f64e-91b8327b95e6"
      },
      "source": [
        "from bs4 import BeautifulSoup\n",
        "import requests\n",
        "import re\n",
        "\n",
        "### 映画No.\n",
        "number = 43\n",
        "\n",
        "# 最新すぎる映画は、Flimarksにない可能性が高いため弾く\n",
        "old_review_df = df.query(' date < \"2020-05-01\" ').reset_index(drop=True)\n",
        "title_list = list(old_review_df['title'])\n",
        "id_list = list(old_review_df['id'])\n",
        "date_list = list(old_review_df['date'])\n",
        "\n",
        "title = title_list[number]\n",
        "tmdb_id = id_list[number]\n",
        "year = str(date_list[number])[:4]\n",
        "\n",
        "### 全角を半角にするテーブル\n",
        "trans_table = str.maketrans({'１': '1', '２': '2', '３': '3', '４': '4', '５': '5',\n",
        "                             '６': '6', '７': '7', '８': '8', '９': '9', '０': '0',\n",
        "                             '　': ' '})\n",
        "title = title.translate(trans_table)\n",
        "\n",
        "print(f'number: {number},\\ttitle: {title},\\tyear: {year}')\n",
        "\n",
        "# トップページからtitleで検索するurl\n",
        "base_url = f'https://filmarks.com/search/movies?q={title}'\n",
        "\n",
        "r = requests.get(base_url)\n",
        "soup = BeautifulSoup(r.text, 'lxml')\n",
        "\n",
        "# moviesを取得\n",
        "contents = soup.body.find_all('div', class_='p-content-cassette__info')\n",
        "img_alt = ''\n",
        "movies_sim = []\n",
        "\n",
        "# titleに合うmovieのidを検索\n",
        "for i, content in enumerate(contents):\n",
        "  img_alt = content.find('img').get('alt')\n",
        "  other_info = content.find('div', class_='p-content-cassette__other-info')\n",
        "  pub_date = other_info.find('h4', class_='p-content-cassette__other-info__title').get_text()\n",
        "  if '上映日' in pub_date:\n",
        "    date_year = other_info.find('span').get_text()[:4]\n",
        "  else:\n",
        "    date_year = '記載なし'\n",
        "  point = 0.0\n",
        "  if title.replace(' ', '') == img_alt.translate(trans_table).replace(' ', ''):\n",
        "    point += 1.2\n",
        "  if title.replace(' ', '') in img_alt.translate(trans_table).replace(' ', ''):\n",
        "    point += 1.0\n",
        "    if date_year != '記載なし':\n",
        "      if year == date_year:\n",
        "        point += 0.8\n",
        "      elif abs(int(year) - int(date_year)) <= 1:\n",
        "        point += 0.6\n",
        "      elif abs(int(year) - int(date_year)) <= 3:\n",
        "        point += 0.4\n",
        "  print(f'i={i},\\timg_alt: {img_alt},\\tdate_year: {date_year},\\tpoint: {point}')\n",
        "  movies_sim.append(point)\n",
        "\n",
        "### 最大ポイントが複数ある場合、制作年を参照する\n",
        "index_list = [i for i, v in enumerate(movies_sim) if v == max(movies_sim)]\n",
        "if 1< len(index_list):\n",
        "  for ind in index_list:\n",
        "    mv_data_clip = soup.body.find_all('div', class_='p-content-cassette')[ind].get('data-clip')\n",
        "    mv_id = re.search('\"movie_id\":[0-9]+', mv_data_clip).group().split(':')[1]\n",
        "    mv_url = f'https://filmarks.com/movies/{mv_id}'\n",
        "    req = requests.get(mv_url)\n",
        "    sp = BeautifulSoup(req.text, 'lxml')\n",
        "    product_year = sp.find('h2', class_='p-content-detail__title').small.find('a').get_text()\n",
        "    if year in product_year:\n",
        "      index = ind\n",
        "      break\n",
        "    time.sleep(2)\n",
        "else:\n",
        "  index = index_list[0]\n",
        "img_alt = contents[index].find('img').get('alt')\n",
        "\n",
        "movie_data_clip = soup.body.find_all('div', class_='p-content-cassette')[index].get('data-clip')\n",
        "movie_id = re.search('\"movie_id\":[0-9]+', movie_data_clip).group().split(':')[1]\n",
        "filmarks_id = movie_id\n",
        "\n",
        "print('')\n",
        "print(f'img_alt: {img_alt}')\n",
        "print(f'movie_data_clip: {movie_data_clip}')\n",
        "print(f'movie_id: {movie_id}')\n",
        "print(f'tmdb_id: {tmdb_id}, filmarks_id: {filmarks_id}')"
      ],
      "execution_count": null,
      "outputs": [
        {
          "output_type": "stream",
          "text": [
            "number: 43,\ttitle: 裏窓,\tyear: 1954\n",
            "i=0,\timg_alt: 裏窓の女,\tdate_year: 記載なし,\tpoint: 1.0\n",
            "i=1,\timg_alt: 裏窓,\tdate_year: 1955,\tpoint: 2.8000000000000003\n",
            "i=2,\timg_alt: 裏窓,\tdate_year: 記載なし,\tpoint: 2.2\n",
            "i=3,\timg_alt: アメリカの裏窓,\tdate_year: 記載なし,\tpoint: 1.0\n",
            "i=4,\timg_alt: 背徳の裏窓,\tdate_year: 記載なし,\tpoint: 1.0\n",
            "i=5,\timg_alt: ヨーロッパの裏窓,\tdate_year: 記載なし,\tpoint: 1.0\n",
            "i=6,\timg_alt: マクガフィン／殺意の裏窓,\tdate_year: 記載なし,\tpoint: 1.0\n",
            "i=7,\timg_alt: 昼下がりの情事 裏窓,\tdate_year: 記載なし,\tpoint: 1.0\n",
            "i=8,\timg_alt: 浮気のすすめ 女の裏窓,\tdate_year: 記載なし,\tpoint: 1.0\n",
            "i=9,\timg_alt: 甘い嘘／裏窓の女-甘い嘘-,\tdate_year: 記載なし,\tpoint: 1.0\n",
            "\n",
            "img_alt: 裏窓\n",
            "movie_data_clip: {\"active\":\"false\",\"movie_id\":13436,\"id\":null,\"count\":6760}\n",
            "movie_id: 13436\n",
            "tmdb_id: 567, filmarks_id: 13436\n"
          ],
          "name": "stdout"
        }
      ]
    },
    {
      "cell_type": "code",
      "metadata": {
        "id": "8CTdWcP7GeoD"
      },
      "source": [
        "# TMDbとFilmarksで対応する映画がない場合、Trueにする\n",
        "id_false = False\n",
        "### id_false = True"
      ],
      "execution_count": null,
      "outputs": []
    },
    {
      "cell_type": "code",
      "metadata": {
        "colab": {
          "base_uri": "https://localhost:8080/"
        },
        "id": "ZijX73wGU6Bo",
        "outputId": "7f1cc6cd-8a45-4767-ed04-adfc9d1aeabb"
      },
      "source": [
        "movie_url = f'https://filmarks.com/movies/{movie_id}'\n",
        "\n",
        "r = requests.get(movie_url)\n",
        "soup = BeautifulSoup(r.text, 'lxml')\n",
        "\n",
        "# movieのトータルページを取得\n",
        "total_page_href = soup.body.find('a', class_='c-pagination__last').get('href')\n",
        "total_page = int(re.search('page=[0-9]+', total_page_href).group().split('=')[1])\n",
        "print(f'total_page: {total_page}')"
      ],
      "execution_count": null,
      "outputs": [
        {
          "output_type": "stream",
          "text": [
            "total_page: 223\n"
          ],
          "name": "stdout"
        }
      ]
    },
    {
      "cell_type": "code",
      "metadata": {
        "colab": {
          "base_uri": "https://localhost:8080/"
        },
        "id": "pCfXEkY94sI3",
        "outputId": "18ff9aef-6fbf-4610-a150-9671599edb09"
      },
      "source": [
        "reviews = []\n",
        "dates = []\n",
        "for page in range(total_page):\n",
        "  # 各映画のレビュー\n",
        "  marks = soup.body.find_all('div', class_='c-media')\n",
        "  for i, mark in enumerate(marks):\n",
        "    review = mark.find(class_='c-rating__score').get_text()\n",
        "    _date_ = mark.find(class_='c-media__date').get_text()\n",
        "    dates.append(_date_)\n",
        "    if review != '-':\n",
        "      reviews.append(float(review))\n",
        "    else:\n",
        "      reviews.append(np.nan)\n",
        "  if page < total_page - 1:\n",
        "    random_time = random.uniform(1, 5)\n",
        "    print(f'random_time: {random_time}, page={page+2}/{total_page}')\n",
        "    time.sleep(random_time)\n",
        "    r = requests.get(f'{movie_url}?page={page+2}')\n",
        "    soup = BeautifulSoup(r.text, 'lxml')\n",
        "  else:\n",
        "    break\n",
        "\n",
        "print(f'reviews: {reviews}, \\n\\ndate: {dates}')"
      ],
      "execution_count": null,
      "outputs": [
        {
          "output_type": "stream",
          "text": [
            "random_time: 1.9458283001211747, page=2/223\n",
            "random_time: 2.1540687271538945, page=3/223\n",
            "random_time: 1.764930190141266, page=4/223\n",
            "random_time: 3.36131014625408, page=5/223\n",
            "random_time: 1.5302236955329147, page=6/223\n",
            "random_time: 3.1875218074088245, page=7/223\n",
            "random_time: 4.537370924640257, page=8/223\n",
            "random_time: 4.722625562463379, page=9/223\n",
            "random_time: 2.6691068417368475, page=10/223\n",
            "random_time: 1.0331600708389783, page=11/223\n",
            "random_time: 4.680879169368184, page=12/223\n",
            "random_time: 3.68305080885334, page=13/223\n",
            "random_time: 4.6711415110685435, page=14/223\n",
            "random_time: 4.386059727858072, page=15/223\n",
            "random_time: 4.741686227244169, page=16/223\n",
            "random_time: 1.3148607948343711, page=17/223\n",
            "random_time: 4.793285695205684, page=18/223\n",
            "random_time: 2.701252318966051, page=19/223\n",
            "random_time: 2.8588168192255776, page=20/223\n",
            "random_time: 1.4948832680766153, page=21/223\n",
            "random_time: 3.642189964085573, page=22/223\n",
            "random_time: 4.98397791360658, page=23/223\n",
            "random_time: 1.7569901047279672, page=24/223\n",
            "random_time: 2.576412461331809, page=25/223\n",
            "random_time: 3.0706959522000323, page=26/223\n",
            "random_time: 4.4247295773883035, page=27/223\n",
            "random_time: 2.3888025718079797, page=28/223\n",
            "random_time: 4.588385181617644, page=29/223\n",
            "random_time: 1.4673321695744779, page=30/223\n",
            "random_time: 2.8755820582499325, page=31/223\n",
            "random_time: 4.077399895417914, page=32/223\n",
            "random_time: 3.3222191980983866, page=33/223\n",
            "random_time: 4.889406217907806, page=34/223\n",
            "random_time: 3.0533102804968655, page=35/223\n",
            "random_time: 3.2515165223545264, page=36/223\n",
            "random_time: 3.485855879192415, page=37/223\n",
            "random_time: 3.2861850589997466, page=38/223\n",
            "random_time: 1.050795038042942, page=39/223\n",
            "random_time: 2.824410332717878, page=40/223\n",
            "random_time: 3.9201425019001848, page=41/223\n",
            "random_time: 3.8329858847044678, page=42/223\n",
            "random_time: 1.044280287301588, page=43/223\n",
            "random_time: 1.9761107957208859, page=44/223\n",
            "random_time: 4.052890410416323, page=45/223\n",
            "random_time: 4.542514776022914, page=46/223\n",
            "random_time: 1.9365685989936923, page=47/223\n",
            "random_time: 1.3812267724383958, page=48/223\n",
            "random_time: 2.658808028328664, page=49/223\n",
            "random_time: 3.5436518245663065, page=50/223\n",
            "random_time: 1.2779290682669115, page=51/223\n",
            "random_time: 1.2830117821102274, page=52/223\n",
            "random_time: 1.1814590701819698, page=53/223\n",
            "random_time: 1.8219747849772667, page=54/223\n",
            "random_time: 2.6319645796477538, page=55/223\n",
            "random_time: 4.272813743403034, page=56/223\n",
            "random_time: 3.3799927707809663, page=57/223\n",
            "random_time: 2.6849526417166687, page=58/223\n",
            "random_time: 4.41581515473541, page=59/223\n",
            "random_time: 4.3028980573334525, page=60/223\n",
            "random_time: 4.9568403941344465, page=61/223\n",
            "random_time: 2.3049859049252834, page=62/223\n",
            "random_time: 1.6599810838210978, page=63/223\n",
            "random_time: 4.123168432901326, page=64/223\n",
            "random_time: 3.3389565338395153, page=65/223\n",
            "random_time: 3.07696917146323, page=66/223\n",
            "random_time: 1.4466511015441883, page=67/223\n",
            "random_time: 4.216256317866717, page=68/223\n",
            "random_time: 3.8577431434918563, page=69/223\n",
            "random_time: 2.7604636971195764, page=70/223\n",
            "random_time: 1.7218230968611539, page=71/223\n",
            "random_time: 2.604151443632998, page=72/223\n",
            "random_time: 2.7323553933265834, page=73/223\n",
            "random_time: 3.396254378939884, page=74/223\n",
            "random_time: 2.79433674998411, page=75/223\n",
            "random_time: 3.0754309000550326, page=76/223\n",
            "random_time: 2.1651594275419934, page=77/223\n",
            "random_time: 2.8134882481571237, page=78/223\n",
            "random_time: 2.0372064736210764, page=79/223\n",
            "random_time: 1.5124316473072712, page=80/223\n",
            "random_time: 3.322683619350364, page=81/223\n",
            "random_time: 4.221311244067228, page=82/223\n",
            "random_time: 1.4622720341099011, page=83/223\n",
            "random_time: 3.710235687385059, page=84/223\n",
            "random_time: 4.257254596890382, page=85/223\n",
            "random_time: 3.1979579590666494, page=86/223\n",
            "random_time: 1.4365372470435482, page=87/223\n",
            "random_time: 2.5279143855986854, page=88/223\n",
            "random_time: 1.0747961357466242, page=89/223\n",
            "random_time: 1.0985774438637486, page=90/223\n",
            "random_time: 4.287801582539705, page=91/223\n",
            "random_time: 1.156571934155632, page=92/223\n",
            "random_time: 1.9750795796391185, page=93/223\n",
            "random_time: 4.566821755546368, page=94/223\n",
            "random_time: 2.9578125089699485, page=95/223\n",
            "random_time: 2.48887927294747, page=96/223\n",
            "random_time: 4.031242751827644, page=97/223\n",
            "random_time: 2.3912888684661997, page=98/223\n",
            "random_time: 1.9372233061194417, page=99/223\n",
            "random_time: 1.4378535097255263, page=100/223\n",
            "random_time: 1.4079290007814245, page=101/223\n",
            "random_time: 4.6806092945124345, page=102/223\n",
            "random_time: 1.5305096403256355, page=103/223\n",
            "random_time: 3.791889637294765, page=104/223\n",
            "random_time: 1.9511801284400518, page=105/223\n",
            "random_time: 4.80451889524881, page=106/223\n",
            "random_time: 4.779720634628992, page=107/223\n",
            "random_time: 2.0345723437734304, page=108/223\n",
            "random_time: 2.0746750195825925, page=109/223\n",
            "random_time: 1.5974044343156688, page=110/223\n",
            "random_time: 3.114466785308215, page=111/223\n",
            "random_time: 1.4165675099896258, page=112/223\n",
            "random_time: 3.642648309801144, page=113/223\n",
            "random_time: 2.3572831323447265, page=114/223\n",
            "random_time: 1.781791357356421, page=115/223\n",
            "random_time: 4.515075866153783, page=116/223\n",
            "random_time: 3.112119046182386, page=117/223\n",
            "random_time: 4.348067801724353, page=118/223\n",
            "random_time: 1.1388652725449249, page=119/223\n",
            "random_time: 4.087070905795418, page=120/223\n",
            "random_time: 2.0211566195199646, page=121/223\n",
            "random_time: 4.035478336439856, page=122/223\n",
            "random_time: 2.0810528797423067, page=123/223\n",
            "random_time: 1.902198187345359, page=124/223\n",
            "random_time: 4.757164623920276, page=125/223\n",
            "random_time: 2.440940727087804, page=126/223\n",
            "random_time: 2.8659127430951274, page=127/223\n",
            "random_time: 3.135691951825113, page=128/223\n",
            "random_time: 3.8452630070269556, page=129/223\n",
            "random_time: 1.3684542573318885, page=130/223\n",
            "random_time: 1.2620652747080263, page=131/223\n",
            "random_time: 3.5148607797463445, page=132/223\n",
            "random_time: 4.739727230706765, page=133/223\n",
            "random_time: 3.2586778014934104, page=134/223\n",
            "random_time: 1.3630805898433018, page=135/223\n",
            "random_time: 2.5360789446838687, page=136/223\n",
            "random_time: 2.4199701601086083, page=137/223\n",
            "random_time: 2.6343209821949096, page=138/223\n",
            "random_time: 2.971232406768345, page=139/223\n",
            "random_time: 2.2336035550725435, page=140/223\n",
            "random_time: 2.9775063950038123, page=141/223\n",
            "random_time: 3.666576299201441, page=142/223\n",
            "random_time: 3.113716662076941, page=143/223\n",
            "random_time: 3.9035550653648774, page=144/223\n",
            "random_time: 1.820755971181634, page=145/223\n",
            "random_time: 2.846916600533956, page=146/223\n",
            "random_time: 4.729942032515171, page=147/223\n",
            "random_time: 1.3215875042453833, page=148/223\n",
            "random_time: 3.3375600181206915, page=149/223\n",
            "random_time: 1.56781718059944, page=150/223\n",
            "random_time: 3.4266272089158885, page=151/223\n",
            "random_time: 4.921915514535948, page=152/223\n",
            "random_time: 3.1117429022739604, page=153/223\n",
            "random_time: 1.0088321531891657, page=154/223\n",
            "random_time: 1.5108649018747236, page=155/223\n",
            "random_time: 4.686944336867477, page=156/223\n",
            "random_time: 3.675702449081772, page=157/223\n",
            "random_time: 3.8699923237435523, page=158/223\n",
            "random_time: 2.1223622400793083, page=159/223\n",
            "random_time: 1.195825178977902, page=160/223\n",
            "random_time: 3.4374325033257813, page=161/223\n",
            "random_time: 3.08355002977802, page=162/223\n",
            "random_time: 1.1989089561068917, page=163/223\n",
            "random_time: 3.6438073637443087, page=164/223\n",
            "random_time: 1.9123818287423728, page=165/223\n",
            "random_time: 4.708022807668298, page=166/223\n",
            "random_time: 3.5080489946651245, page=167/223\n",
            "random_time: 3.0717771105158955, page=168/223\n",
            "random_time: 4.027571315965837, page=169/223\n",
            "random_time: 2.591601492596419, page=170/223\n",
            "random_time: 4.15852173144178, page=171/223\n",
            "random_time: 1.0112316137398447, page=172/223\n",
            "random_time: 1.980422019907064, page=173/223\n",
            "random_time: 3.7215998625390014, page=174/223\n",
            "random_time: 3.5439735989649637, page=175/223\n",
            "random_time: 3.9992617551651266, page=176/223\n",
            "random_time: 3.8543915658893737, page=177/223\n",
            "random_time: 2.5495820727156535, page=178/223\n",
            "random_time: 2.244485578708675, page=179/223\n",
            "random_time: 1.0928247189393288, page=180/223\n",
            "random_time: 2.911542768655898, page=181/223\n",
            "random_time: 4.747337813802384, page=182/223\n",
            "random_time: 3.9740338587153192, page=183/223\n",
            "random_time: 2.4412371421105084, page=184/223\n",
            "random_time: 3.7104191275257743, page=185/223\n",
            "random_time: 4.962306559789369, page=186/223\n",
            "random_time: 4.285421819773454, page=187/223\n",
            "random_time: 3.3121094980246744, page=188/223\n",
            "random_time: 1.1868182091184227, page=189/223\n",
            "random_time: 2.726787810967311, page=190/223\n",
            "random_time: 4.0928898721542275, page=191/223\n",
            "random_time: 2.9027540390568722, page=192/223\n",
            "random_time: 1.0728659041925637, page=193/223\n",
            "random_time: 2.2031088064523066, page=194/223\n",
            "random_time: 1.6290448387809882, page=195/223\n",
            "random_time: 3.371912804303286, page=196/223\n",
            "random_time: 2.45419468292824, page=197/223\n",
            "random_time: 3.1668418923451687, page=198/223\n",
            "random_time: 2.513313885053127, page=199/223\n",
            "random_time: 2.5513017620410445, page=200/223\n",
            "random_time: 2.2834690027317306, page=201/223\n",
            "random_time: 3.4704995917919184, page=202/223\n",
            "random_time: 4.1534990690269655, page=203/223\n",
            "random_time: 1.289178008143216, page=204/223\n",
            "random_time: 4.33465321127523, page=205/223\n",
            "random_time: 1.334522958876998, page=206/223\n",
            "random_time: 3.539494493795055, page=207/223\n",
            "random_time: 3.7836751359773526, page=208/223\n",
            "random_time: 1.6212949234624383, page=209/223\n",
            "random_time: 3.8645161798891734, page=210/223\n",
            "random_time: 3.396273943959816, page=211/223\n",
            "random_time: 3.6796550030174506, page=212/223\n",
            "random_time: 3.516355091977982, page=213/223\n",
            "random_time: 4.373991169153593, page=214/223\n",
            "random_time: 2.2671823642402007, page=215/223\n",
            "random_time: 2.126566035863226, page=216/223\n",
            "random_time: 4.520961298029082, page=217/223\n",
            "random_time: 4.028711318118454, page=218/223\n",
            "random_time: 3.4337360078752948, page=219/223\n",
            "random_time: 2.3979943716726115, page=220/223\n",
            "random_time: 3.873738081776767, page=221/223\n",
            "random_time: 4.984079178179663, page=222/223\n",
            "random_time: 1.3642863716140727, page=223/223\n",
            "reviews: [3.0, 4.0, nan, 3.3, 3.8, nan, 3.0, 3.4, 3.9, 3.7, 3.8, 3.7, 4.8, 3.8, 4.1, 4.8, 3.6, 4.0, 3.3, 3.7, 3.4, 3.2, 3.7, 3.5, 3.8, 2.8, 3.6, 4.5, 4.4, 3.4, 3.0, 4.0, 3.7, 3.5, 3.0, 4.2, 3.2, 3.7, 4.3, nan, 3.9, nan, 3.5, 3.9, 2.9, nan, 3.6, 4.0, 2.9, 1.0, 4.6, 3.8, 3.9, nan, 4.7, nan, 4.0, 1.8, 3.5, 4.5, 2.0, 3.3, 5.0, nan, 3.7, 4.0, 4.0, 3.0, 3.0, 4.1, 4.0, 4.0, 3.5, 4.8, 3.8, 3.0, 4.0, 3.0, 3.9, 3.7, 3.7, 3.0, 3.0, 3.0, 3.8, 4.0, 4.0, 4.1, 3.9, 3.5, 3.7, 3.7, 3.8, 4.0, 1.7, 3.5, 2.9, 3.8, 4.0, 4.0, 4.1, 3.9, 4.5, 3.9, 3.3, 3.6, 3.9, 3.8, 3.0, 2.1, 4.0, 5.0, 3.3, 3.5, 3.8, 4.1, 4.0, 4.1, 4.7, 3.2, 4.1, 4.5, 4.0, 4.7, 3.5, 4.8, 4.0, 3.1, 4.4, 4.0, 4.5, 3.8, 4.4, 3.7, nan, 3.7, 4.5, 4.2, 4.0, nan, nan, nan, 4.0, 4.4, 4.0, nan, nan, 3.3, nan, 4.8, 3.0, 4.0, 4.5, 3.8, 3.8, 4.6, 2.8, 4.3, 3.5, 4.0, 5.0, 3.4, 3.8, 4.0, 3.7, 3.5, 4.3, 4.4, 4.8, 4.1, 4.4, 3.0, 4.5, 4.3, 3.1, 3.8, 3.8, 3.9, 5.0, 4.2, 4.0, 3.1, 3.5, 3.9, 3.0, 3.8, 4.5, 3.6, 3.5, 4.3, 3.0, 4.5, 3.7, 4.0, 3.9, 3.9, 4.0, nan, 5.0, 3.0, 3.8, 3.8, 4.2, 3.7, 3.0, 4.0, 3.5, 4.1, 3.1, 4.0, 3.8, 5.0, 3.8, 4.3, 4.0, 4.0, 3.9, 3.8, 4.0, 3.9, nan, nan, 4.2, 3.5, 2.6, 3.9, 4.6, 4.5, 4.6, nan, 5.0, nan, 3.8, 4.1, 3.4, 4.2, 3.7, nan, nan, 3.8, 3.6, 4.0, nan, 3.0, 4.5, 4.4, 3.9, 4.0, 4.1, 4.0, 3.7, 4.0, 4.3, 4.0, 3.7, 5.0, nan, 3.7, 3.7, 4.3, 3.6, 3.7, 3.5, 3.9, 4.5, 3.5, 3.6, 3.5, 3.7, 3.4, 3.6, 4.5, 4.6, nan, 3.7, 3.0, 3.8, 2.5, nan, 3.1, 3.8, 4.0, 4.0, 3.9, 4.4, 4.0, 3.8, 3.7, 2.4, 4.1, nan, 4.2, 4.5, nan, 3.7, 4.0, 4.0, 3.7, 4.1, nan, 3.5, 5.0, 4.3, 4.2, 4.5, nan, 3.7, 3.7, nan, 4.2, 5.0, 4.1, 5.0, 4.0, 4.0, 3.7, 4.2, 3.3, 4.0, 3.1, 3.8, nan, 4.1, 4.0, 4.2, 3.6, 4.0, 4.0, 3.8, nan, 4.0, 3.5, 4.3, 4.8, 3.8, 3.8, 3.6, 3.5, nan, 3.8, 3.8, 4.4, nan, 3.9, 3.9, 3.2, 3.6, 3.9, 5.0, 4.0, 3.5, 5.0, 4.1, 4.0, 3.5, 4.6, 4.2, 3.2, 3.6, 3.4, 4.0, 3.5, 3.4, 4.0, 3.0, 4.1, 5.0, 3.7, 3.8, nan, 4.0, 3.7, 4.0, 3.2, 3.3, 3.8, 3.8, 2.8, 3.0, 2.0, 4.0, 3.9, nan, nan, 4.1, 4.3, 4.0, nan, 3.9, 4.2, 3.9, 3.7, 3.6, 4.0, 4.0, 3.7, 3.5, 3.6, 3.6, nan, 3.8, 3.1, 3.8, 3.8, 4.0, 4.0, 3.5, 3.5, 3.8, 4.0, 3.5, 3.5, nan, 4.5, 4.0, nan, 3.7, 4.0, 4.5, 4.1, nan, 4.0, 3.2, 3.4, 3.4, 3.7, 3.6, 3.8, 3.6, 3.4, 3.0, nan, nan, nan, 4.3, 3.7, 4.3, 3.7, 3.0, 4.3, 3.9, 4.2, 3.8, 3.8, 3.5, 3.2, 4.4, 4.2, 3.9, 3.2, 4.0, 3.7, 3.8, 3.8, nan, 4.0, nan, 4.2, 4.3, 4.0, 3.7, 4.5, 3.8, 5.0, 3.8, 4.0, 3.0, 4.5, 4.5, 4.0, nan, 3.7, nan, 3.5, 3.0, 4.0, 4.2, nan, 3.6, 4.0, 3.7, 4.0, 4.0, 3.7, 4.2, 4.4, nan, 3.9, 5.0, 3.3, 4.0, 4.0, 4.0, 3.8, 4.0, 3.7, 4.6, 4.0, 3.5, 3.4, 3.5, 4.0, 4.0, 4.2, 4.2, 4.6, 4.1, nan, nan, 3.7, 3.6, 3.8, 4.0, nan, 4.5, 5.0, 3.8, 3.8, 4.5, 4.5, 4.0, 5.0, 3.6, 3.5, 4.5, nan, 3.8, 4.5, 3.3, 3.7, 3.4, 4.2, 4.1, 4.5, nan, 4.5, 3.4, 3.7, 4.3, 3.8, 3.0, 4.5, 3.7, 3.8, 3.7, 4.6, 4.7, nan, 4.0, 3.8, 3.7, 2.6, 5.0, 3.5, 3.9, 4.1, 4.0, 4.0, nan, 3.6, 4.3, 4.0, nan, 4.3, 3.8, 4.0, 4.5, 4.2, 4.0, 4.3, 4.0, 3.9, 4.0, 3.4, 4.3, 3.8, 3.8, 4.6, 4.1, 3.8, 4.0, 3.0, 3.6, 3.7, 3.6, nan, 5.0, 4.4, 4.0, 3.8, 3.6, nan, 4.7, 3.8, 3.9, 4.2, 3.9, 3.5, nan, 3.8, 3.6, 3.9, 4.4, 3.0, 5.0, 3.0, nan, 4.0, 3.5, 4.0, 3.8, nan, 5.0, 3.5, 4.2, 3.8, 4.0, 3.9, 5.0, 3.7, 4.5, nan, 3.7, 4.0, 4.0, 4.7, 3.6, 3.8, 3.6, 4.4, nan, 4.0, 3.5, 4.2, nan, 4.0, 3.5, 4.0, 4.5, 4.0, 4.7, 4.0, 3.3, 3.8, 3.8, 4.0, 4.4, 4.2, nan, nan, 3.8, 4.0, 3.6, 3.2, 4.5, 3.5, 2.6, 3.8, 3.5, 3.0, 4.0, 3.3, 3.2, 3.8, nan, 4.4, 3.8, 4.0, 4.0, nan, 3.9, 3.9, 4.0, 3.7, 3.6, nan, 3.0, 4.1, 3.3, 3.6, 5.0, 4.1, 3.7, 3.7, 3.5, 4.0, 3.3, 3.8, nan, 4.5, nan, 4.0, 4.2, 4.0, nan, 3.0, 4.2, 2.5, nan, 4.9, 4.9, 3.6, 3.8, 3.7, 4.5, 4.0, 3.7, 3.9, 4.0, 5.0, 1.0, 3.9, 3.7, 3.7, 5.0, 3.7, 3.5, 4.1, 4.0, 3.8, 3.8, 4.4, 4.7, 3.8, 4.2, 3.9, 3.7, 3.5, nan, nan, 3.0, 4.0, 3.8, 2.8, 4.5, 4.0, 3.2, 4.0, 3.0, nan, 4.0, 3.8, 4.5, 2.5, 2.5, 3.6, 4.2, 3.0, 4.2, 4.7, 4.1, 4.0, 4.0, 3.1, 4.6, 3.0, 4.5, 5.0, nan, 3.8, 3.7, 3.7, 3.9, 4.3, 3.4, 3.5, 3.5, 3.5, 3.5, 4.5, 3.7, 3.5, 4.2, 3.2, 4.3, 3.8, 4.6, 5.0, 3.7, 4.2, 5.0, 3.0, nan, 3.2, 2.9, 3.6, 3.5, 3.7, 3.9, 4.2, 4.2, 3.9, 3.9, 3.6, 3.8, 4.0, nan, 3.9, 3.6, nan, 3.6, nan, 4.0, 3.8, 3.7, 3.6, 3.0, 3.3, 4.0, 4.0, 5.0, 3.3, 3.7, 5.0, 3.9, 3.0, 4.3, 4.3, 3.8, 3.5, 4.0, 3.5, 4.5, 4.4, 4.4, 4.0, 5.0, 3.5, 3.8, 3.6, 4.2, 4.0, 3.6, 3.7, 3.5, 4.0, nan, 4.5, 3.5, 3.3, 4.2, 4.0, 2.4, 5.0, 4.0, 4.5, 3.5, 3.8, 3.8, 4.2, 4.0, 3.8, 4.5, nan, 4.5, 3.9, 4.0, 3.1, 3.8, 4.0, 3.1, 3.5, 4.0, 3.5, 3.5, 3.7, 3.6, 4.4, 3.5, 2.9, 3.1, 4.5, 3.5, 2.2, 3.9, 4.2, 5.0, 3.0, 3.8, nan, 3.8, 3.7, 3.0, 4.6, 4.0, 4.0, 3.9, 3.5, 3.0, 3.9, 3.7, 4.2, 4.0, 3.7, 4.0, 4.3, 4.0, 3.8, 3.0, 5.0, 3.0, 4.8, 4.0, nan, 4.5, 3.0, nan, 3.0, 4.3, 3.9, 3.9, 4.1, 3.0, 3.7, 3.3, 3.5, 3.3, 3.7, 3.9, 3.9, 3.9, 4.8, 3.5, 3.0, nan, nan, 3.5, 3.4, 4.5, nan, 4.0, nan, 5.0, 3.5, 3.3, nan, 3.0, nan, 4.2, 4.0, 3.2, 4.0, 4.0, 4.6, nan, 3.8, nan, 3.7, nan, 3.6, 3.0, 4.5, 3.6, 4.5, 3.6, 2.7, 4.0, 3.8, 3.8, 3.8, nan, 4.0, nan, 4.0, 3.2, 3.9, 4.5, nan, 3.9, nan, 4.5, 4.2, 3.5, 3.8, 3.7, 3.0, 4.2, 3.0, 2.5, 3.5, 4.5, nan, 3.9, 3.0, 2.2, 5.0, 4.6, 3.4, 3.7, 3.9, 3.2, 5.0, 4.0, 3.8, 3.6, 4.2, 4.0, 3.7, 4.3, nan, 3.5, 3.8, 4.4, 3.3, 5.0, 4.0, 4.0, 4.3, 4.0, 3.9, 3.6, 4.0, 4.1, 3.8, 3.9, 3.8, 3.5, 3.5, 3.8, 4.8, 3.4, 3.9, 4.0, nan, 5.0, 3.0, 5.0, 4.0, 4.1, 4.2, 4.0, 4.0, 3.8, nan, 4.5, 3.0, 4.0, 4.1, 4.2, 4.0, 5.0, 3.0, 3.8, 3.8, 3.8, 3.2, 4.2, 4.5, 3.5, 5.0, 3.1, 3.7, 3.8, 3.5, 4.0, 4.5, nan, 3.6, 4.6, 2.7, 5.0, 4.7, 3.3, 4.5, 5.0, 3.3, 3.8, 3.8, 3.2, 4.0, 4.6, 5.0, 4.2, 3.5, 4.0, nan, 3.9, 4.0, 5.0, 3.9, 3.8, 5.0, 2.7, 3.0, 3.9, 4.0, 3.7, 4.2, 4.8, 3.3, 3.8, 3.8, 4.0, 3.5, 4.2, 4.5, 5.0, 4.0, 4.0, 3.5, 3.0, 4.2, 3.3, 4.7, 2.0, nan, 3.1, 2.7, 4.0, 3.5, 3.8, 3.4, 3.3, 4.5, 4.5, 4.1, 3.3, 4.0, 4.5, 3.3, 3.9, 3.9, 3.8, 3.4, 3.7, nan, 4.1, 3.9, 3.5, 3.9, 4.0, 3.5, 4.0, nan, nan, nan, 4.2, 3.8, nan, 3.5, 4.6, 4.2, 3.8, 3.1, 3.5, 4.0, nan, 4.0, 3.4, 3.7, 3.9, 5.0, 3.9, 4.0, 3.7, 3.3, 4.0, 4.3, 4.5, 3.8, nan, 4.3, 3.5, 3.5, 4.4, 3.0, 4.0, 4.3, 4.0, 3.8, 4.1, 4.0, 3.8, 3.2, 4.4, nan, 4.3, 5.0, 3.3, 3.0, 5.0, 3.8, 4.8, 5.0, 4.4, 3.6, 4.0, 3.6, 4.2, 4.1, 3.7, 4.0, 3.5, 4.1, 4.2, 4.5, 4.5, nan, 3.1, 3.8, 4.5, 3.0, 3.0, 3.8, 4.5, 3.7, 4.0, 4.5, nan, 3.2, 4.5, nan, 3.5, 3.8, 3.9, 3.8, 4.5, 3.8, nan, 4.0, 3.7, 4.0, 2.9, 3.3, 3.5, 4.5, 4.6, 4.2, 3.0, 4.0, 4.3, 4.4, 4.1, 5.0, 4.3, 3.8, 3.7, 4.0, 3.9, 3.5, 4.0, 4.5, 4.0, 2.8, 3.3, 4.6, 3.0, 4.5, 4.2, 4.0, 4.5, nan, 4.4, 3.8, 3.5, 5.0, 4.0, 3.4, 4.2, 4.0, 3.7, 5.0, 4.2, 3.8, 3.5, 3.4, 3.2, nan, 3.8, 4.7, 4.5, 4.0, 4.0, 4.5, 3.6, 3.5, 3.0, 3.7, 4.7, 3.8, 3.8, 3.8, 4.0, 3.5, 3.8, 4.4, 4.5, 4.0, 4.7, 3.8, 4.0, 4.4, 3.6, 4.1, 3.5, 3.8, 4.5, 3.8, 5.0, 3.5, 3.9, 4.0, 5.0, 3.7, 4.0, 3.2, 3.8, 4.5, 3.8, 4.0, 4.0, 4.0, 2.7, 2.0, nan, 3.5, 2.8, 3.9, 4.0, 4.3, 3.5, 4.0, 3.2, 3.6, 5.0, 2.9, nan, 4.0, 4.2, 3.8, 4.5, 3.6, 4.6, 5.0, 3.8, 3.9, 5.0, 2.7, 3.8, 4.0, 4.0, 3.5, 3.6, 3.5, 2.0, 4.3, 4.3, 3.8, 4.5, nan, 3.7, nan, 4.7, 4.0, 4.5, 4.2, 2.5, 3.7, 5.0, 4.5, 4.0, 4.4, nan, 4.3, 4.0, 4.3, 3.7, 4.5, 4.0, 3.6, 3.9, 4.5, 4.0, 3.8, nan, 4.3, 3.9, 3.2, 3.7, 2.7, 3.7, 3.6, 3.8, nan, 3.9, 3.8, 3.8, 4.6, 3.6, 4.0, 2.8, 4.5, 4.0, 3.8, 5.0, 4.7, 3.8, 3.5, 3.6, 3.8, 3.7, 4.0, 4.0, 4.2, 4.1, 3.0, 3.9, 4.0, 3.7, 4.8, 4.3, 3.9, 3.6, 4.0, 3.3, 4.0, 4.0, 4.2, 3.7, 3.0, nan, 3.0, 4.1, 3.7, 3.5, 5.0, 4.5, 3.8, 3.8, 3.9, 3.1, 4.1, 5.0, 4.5, 4.2, 3.1, 3.9, 4.0, 3.5, 3.5, 5.0, 3.5, 3.9, 3.5, 4.5, 3.9, 4.4, 3.5, 3.8, 3.6, 3.5, 3.7, 3.9, 4.2, 4.0, 5.0, 4.3, nan, 4.2, 3.4, nan, 4.5, 4.5, 3.9, 4.0, 4.0, 3.2, 3.8, 3.8, 3.8, 4.0, 3.5, nan, nan, 4.0, 4.5, nan, 3.8, 3.3, 5.0, 3.8, 4.1, 4.3, 3.5, 3.7, 3.8, 3.6, nan, 3.2, 3.8, 3.8, nan, 3.5, 3.5, 3.5, 4.1, 3.6, 4.8, 3.0, 3.5, 5.0, 4.5, 4.2, 4.3, 3.8, 5.0, 3.7, 3.5, 4.2, 3.9, 3.5, nan, 3.5, 4.0, 3.8, 4.3, 4.5, 3.5, 4.5, 2.9, 4.0, 3.6, 3.8, 3.8, 4.6, 3.5, 3.8, nan, 3.7, 4.6, 3.1, 3.5, 2.1, 3.0, 4.0, 4.0, 3.4, 3.8, 3.9, 3.5, 3.2, 4.0, 4.0, 3.5, 3.8, 4.0, 3.4, 5.0, 3.6, 4.5, 3.0, 3.7, nan, 4.0, 3.8, 2.5, 3.6, 2.0, 3.0, 4.6, 3.7, 3.6, 3.6, 3.9, 3.9, 3.9, 3.9, 4.0, 4.0, 3.6, nan, 3.7, 4.5, 3.6, 4.0, 3.9, 3.5, 4.1, 3.7, 4.0, nan, 3.9, 3.7, 3.1, 4.3, 3.8, 3.4, 3.6, 3.0, 3.7, 4.0, 3.9, 3.5, 3.8, 4.5, 4.0, 3.7, 3.5, 3.8, 4.5, 3.7, 3.4, 4.3, 4.3, 3.9, 1.5, nan, 3.2, 4.0, 3.6, 3.8, 3.5, 2.4, 5.0, 4.0, 4.0, 4.4, 4.6, 3.7, 4.0, 4.0, 3.5, 3.3, 4.0, 4.0, 3.7, 3.8, 4.0, 4.7, 4.2, 3.8, 3.9, 3.8, 4.1, 3.7, 3.2, 4.3, 3.5, 4.5, 4.4, 4.4, 5.0, nan, 4.5, 3.7, 3.6, 3.5, 4.9, 3.0, 3.8, 4.2, 4.5, 3.9, 4.0, 4.4, 3.5, 4.2, 3.4, 3.9, 5.0, 2.5, 4.0, 2.4, 3.7, 4.4, 4.6, 3.8, 3.6, 3.8, 3.8, 3.7, 4.5, 3.8, 5.0, 4.0, 3.9, 4.2, 3.5, 4.8, 4.0, 4.0, 4.4, 3.5, nan, 4.0, 4.8, 4.2, 4.0, 4.1, 4.2, 4.0, 4.5, 4.7, 5.0, 4.1, 4.0, 4.0, 4.5, 3.7, 5.0, 3.9, 4.5, 4.4, 3.0, 3.5, 3.4, 4.5, 3.6, 3.8, 3.7, 4.0, 3.6, nan, 3.8, 4.3, 3.0, nan, 3.8, 3.5, 3.7, nan, 3.5, 4.0, 4.1, 5.0, 3.5, 3.6, 4.1, 3.3, 4.0, 4.0, 4.2, 5.0, 4.0, 3.4, 3.6, 3.0, 5.0, 3.6, 4.0, 3.3, 3.8, 2.0, 3.8, 2.0, 4.5, 4.2, 4.5, 3.5, 3.5, nan, 3.6, 3.8, 4.0, 3.3, 3.5, 4.6, 2.8, 4.4, 4.9, 4.4, 5.0, 3.8, nan, 3.7, 3.5, 3.8, 3.3, 3.6, 3.9, 4.0, 3.7, 4.2, 3.6, 5.0, 4.5, 4.0, 4.0, 4.1, 3.8, 3.2, nan, 5.0, 3.0, 3.4, nan, 3.7, 4.3, 3.2, 4.1, 3.9, 3.6, 3.9, 3.5, 3.7, 3.3, 3.8, 3.6, 3.0, 2.5, 3.8, 4.0, 4.0, 4.0, 4.1, 3.8, 3.5, 3.2, 3.9, 3.2, 3.5, 3.5, 3.8, 3.9, 3.8, 4.3, 3.5, 4.4, 4.7, 3.9, 3.8, 3.4, 3.0, 4.0, 5.0, 3.4, 4.0, nan, nan, 4.3, nan, nan, 3.6, 3.9, 3.8, 4.5, 3.5, 3.5, 3.9, 3.8, 2.5, 3.9, 4.0, 4.0, 3.5, 3.9, 4.0, 3.7, 3.3, 4.5, 3.0, 4.5, 3.8, 4.5, 4.0, 3.0, 4.1, 4.0, 4.0, 4.2, 3.0, 3.0, 4.6, 2.5, 3.8, 4.1, 4.0, 4.3, 4.0, 3.6, 3.6, 3.9, 3.6, 4.5, nan, 4.1, 4.0, 3.7, 3.8, 5.0, 3.5, 3.7, 4.3, 3.8, 3.7, 4.3, 3.4, 4.0, 4.4, 4.5, 4.4, 3.6, 4.5, 4.1, 4.2, 4.0, 3.1, 3.5, nan, 4.0, 2.5, 5.0, 4.0, 3.9, 4.5, 3.7, 4.1, 4.8, 4.3, 4.9, 3.9, 4.5, 3.5, 5.0, 4.3, 4.0, 4.0, 4.3, 5.0, 3.9, 3.5, 3.9, 3.8, 4.0, 4.1, 4.7, 3.6, 4.2, 3.8, 3.7, 3.9, 4.2, 3.6, 3.1, 4.0, 4.2, 4.3, 4.3, 2.5, 4.5, 3.7, nan, 3.8, 4.5, 5.0, 1.5, 3.8, 3.3, 4.3, 3.5, nan, 4.4, nan, 2.9, nan, 2.9, 3.2, 4.0, 4.0, 3.6, nan, 3.9, 4.1, 3.5, 5.0, 3.0, 4.1, 3.8, 3.0, 3.5, 3.5, 4.7, 3.5, 4.3, 4.6, 5.0, 4.8, 3.9, 3.5, 4.2, 3.6, 3.7, 3.5, 3.5, 2.6, 4.0, 4.0, 4.0, 4.2, 3.5, 4.2, 3.8, 4.0, 4.0, 4.0, 4.6, 3.8, 4.3, 4.1, 4.2, 4.3, 5.0, 4.0, 3.0, 4.4, 4.0, 3.5, 3.9, 4.3, 3.5, 4.6, 3.8, nan, 4.0, 3.6, 4.0, 3.3, 4.0, 4.0, 4.2, 3.7, 4.0, 4.3, 4.3, 4.0, 3.7, 4.5, 4.0, nan, 3.7, 3.7, 3.8, 3.9, 4.5, 3.0, 3.9, 2.5, 4.0, 4.0, 4.3, 4.2, 4.5, 3.6, 4.0, 3.5, 4.0, 5.0, 3.6, 3.7, 4.0, 4.5, 4.0, 3.7, 4.5, 3.1, 4.0, 3.0, 4.1, 3.6, 4.0, 4.0, 3.5, 4.5, 4.4, 4.2, 4.0, 3.8, 4.0, 3.8, 4.3, 4.0, 3.5, 4.9, 4.2, 4.5, 4.1, 4.0, 4.5, 5.0, 4.0, 4.8, 4.1, 2.7, 3.5, 4.0, 3.7, 3.6, 4.3, 3.3, 4.0, 5.0, 3.8, 4.6, 3.8, 5.0, 4.3, 4.4, 3.0, 4.0, 4.0, 3.9, 3.7, 3.9, 4.0, 3.5, nan, 2.9, 3.8, 4.1, 5.0, 4.3, 4.0, 4.2, 4.7, 3.5, 4.6, 4.0, 4.0, 3.5, 2.9, 4.4, 4.0, 4.6, 3.6, 4.0, 3.0, 3.5, 3.3, nan, 4.6, 4.2, 2.5, 4.1, 3.8, 4.4, 3.5, 3.6, 4.0, nan, 3.8, 3.8, 4.3, 4.0, 3.5, 3.5, 4.5, 4.3, 4.0, 4.5, 3.8, 5.0, 4.4, 3.8, 3.3, 3.8, 3.3, 3.6, 3.6, 3.5, nan, 4.0, 4.0, 4.3, 3.9, 3.0, 4.5, 4.5, 4.5, 3.7, 3.5, 4.6, 4.0, 4.1, 3.5, 3.8, 4.3, 4.0, 5.0, 3.9, 3.9, 4.4, 3.4, 3.5, 4.2, 3.7, 4.0, 3.3, 4.5, 4.8, 3.8, 4.5, 5.0, 3.8, 3.0, nan, 4.0, 3.6, 3.7, 3.7, 4.0, 3.8, 3.4, 4.0, 3.2, 3.5, 4.2, 3.4, 3.0, 3.3, 3.5, 3.9, 3.9, 4.2, 3.2, 4.0, 3.0, 4.5, 2.6, 5.0, nan, 4.1, 3.7, 4.0, 3.8, 4.1, 5.0, 4.4, 4.5, 4.0], \n",
            "\n",
            "date: ['2021/02/19 12:50', '2021/02/19 06:19', '2021/02/18 22:44', '2021/02/18 20:42', '2021/02/17 20:12', '2021/02/17 19:13', '2021/02/17 09:45', '2021/02/17 00:49', '2021/02/16 22:29', '2021/02/16 18:12', '2021/02/16 12:54', '2021/02/16 00:03', '2021/02/15 22:20', '2021/02/15 00:55', '2021/02/15 00:23', '2021/02/14 21:13', '2021/02/14 20:36', '2021/02/14 18:57', '2021/02/14 14:51', '2021/02/14 08:29', '2021/02/14 02:33', '2021/02/14 00:12', '2021/02/13 20:01', '2021/02/13 18:22', '2021/02/13 17:12', '2021/02/12 20:50', '2021/02/12 13:44', '2021/02/12 10:25', '2021/02/11 20:43', '2021/02/11 16:12', '2021/02/11 13:50', '2021/02/11 12:41', '2021/02/11 04:04', '2021/02/11 01:47', '2021/02/10 22:51', '2021/02/10 11:43', '2021/02/09 22:33', '2021/02/09 19:58', '2021/02/09 19:15', '2021/02/09 18:11', '2021/02/09 16:33', '2021/02/09 15:57', '2021/02/09 15:40', '2021/02/09 15:19', '2021/02/09 12:42', '2021/02/08 22:35', '2021/02/08 19:39', '2021/02/08 19:38', '2021/02/08 19:14', '2021/02/08 06:35', '2021/02/08 03:43', '2021/02/08 00:02', '2021/02/07 22:51', '2021/02/07 19:30', '2021/02/07 18:27', '2021/02/07 15:56', '2021/02/07 14:03', '2021/02/07 10:44', '2021/02/07 10:44', '2021/02/07 10:37', '2021/02/07 09:50', '2021/02/07 07:56', '2021/02/07 03:08', '2021/02/07 00:45', '2021/02/06 23:48', '2021/02/06 23:41', '2021/02/06 23:28', '2021/02/06 21:20', '2021/02/06 17:41', '2021/02/06 17:14', '2021/02/06 16:05', '2021/02/06 12:54', '2021/02/06 10:34', '2021/02/06 10:21', '2021/02/06 09:06', '2021/02/06 07:47', '2021/02/06 00:00', '2021/02/05 23:00', '2021/02/05 22:00', '2021/02/05 18:22', '2021/02/05 18:20', '2021/02/05 18:12', '2021/02/05 15:40', '2021/02/05 14:12', '2021/02/05 11:32', '2021/02/05 01:46', '2021/02/05 00:27', '2021/02/04 23:52', '2021/02/04 23:36', '2021/02/04 16:20', '2021/02/04 14:37', '2021/02/04 14:04', '2021/02/04 12:34', '2021/02/04 08:29', '2021/02/04 06:38', '2021/02/04 01:34', '2021/02/03 21:55', '2021/02/03 20:04', '2021/02/03 19:26', '2021/02/03 18:22', '2021/02/03 16:49', '2021/02/03 16:18', '2021/02/03 15:47', '2021/02/03 15:16', '2021/02/03 15:04', '2021/02/03 15:03', '2021/02/03 14:59', '2021/02/02 13:24', '2021/01/31 17:22', '2021/01/30 22:46', '2021/01/27 23:46', '2021/01/27 15:49', '2021/01/27 04:26', '2021/01/26 01:56', '2021/01/25 20:06', '2021/01/24 15:54', '2021/01/24 13:32', '2021/01/22 21:01', '2021/01/22 19:47', '2021/01/21 13:12', '2021/01/20 19:14', '2021/01/20 09:05', '2021/01/19 23:20', '2021/01/19 22:11', '2021/01/19 21:53', '2021/01/19 16:28', '2021/01/18 21:59', '2021/01/18 00:41', '2021/01/17 23:56', '2021/01/17 21:56', '2021/01/17 08:57', '2021/01/17 05:24', '2021/01/16 01:34', '2021/01/16 00:11', '2021/01/14 22:28', '2021/01/14 12:41', '2021/01/13 03:12', '2021/01/12 00:32', '2021/01/11 08:40', '2021/01/11 06:19', '2021/01/10 22:08', '2021/01/10 21:18', '2021/01/09 16:25', '2021/01/09 11:45', '2021/01/09 03:29', '2021/01/08 22:28', '2021/01/06 16:58', '2021/01/05 14:33', '2021/01/03 21:09', '2021/01/03 16:53', '2021/01/03 15:50', '2021/01/03 12:25', '2021/01/03 00:05', '2021/01/02 12:28', '2021/01/02 01:12', '2020/12/31 16:27', '2020/12/29 03:15', '2020/12/28 16:18', '2020/12/27 21:56', '2020/12/27 19:19', '2020/12/27 03:30', '2020/12/27 01:25', '2020/12/27 00:15', '2020/12/23 09:33', '2020/12/23 06:59', '2020/12/21 01:14', '2020/12/19 11:40', '2020/12/17 23:07', '2020/12/17 14:31', '2020/12/15 13:45', '2020/12/14 21:15', '2020/12/13 20:55', '2020/12/12 12:53', '2020/12/11 18:56', '2020/12/09 20:30', '2020/12/09 17:15', '2020/12/09 16:52', '2020/12/08 16:37', '2020/12/07 22:10', '2020/12/04 22:44', '2020/12/04 19:45', '2020/12/02 20:28', '2020/12/01 03:48', '2020/11/29 17:53', '2020/11/27 20:52', '2020/11/26 21:25', '2020/11/25 23:55', '2020/11/25 01:30', '2020/11/24 01:04', '2020/11/22 20:07', '2020/11/18 22:48', '2020/11/16 18:50', '2020/11/15 12:25', '2020/11/14 22:35', '2020/11/14 22:29', '2020/11/11 15:58', '2020/11/11 13:30', '2020/11/09 13:56', '2020/11/08 16:17', '2020/11/08 15:47', '2020/11/07 16:19', '2020/11/07 00:51', '2020/11/06 16:23', '2020/11/05 20:33', '2020/11/05 00:07', '2020/11/04 12:12', '2020/11/03 22:37', '2020/11/02 00:21', '2020/10/31 21:45', '2020/10/29 23:07', '2020/10/26 21:50', '2020/10/26 18:13', '2020/10/24 05:39', '2020/10/23 21:32', '2020/10/23 12:46', '2020/10/20 12:45', '2020/10/18 00:52', '2020/10/17 14:27', '2020/10/16 23:17', '2020/10/16 09:11', '2020/10/15 00:41', '2020/10/14 14:47', '2020/10/13 22:15', '2020/10/13 01:29', '2020/10/13 01:18', '2020/10/12 03:43', '2020/10/12 00:15', '2020/10/11 02:42', '2020/10/09 12:01', '2020/10/07 22:09', '2020/10/05 23:03', '2020/10/05 21:47', '2020/10/05 00:34', '2020/10/04 02:33', '2020/10/03 13:12', '2020/10/01 22:56', '2020/09/30 22:08', '2020/09/30 21:17', '2020/09/30 15:18', '2020/09/29 22:56', '2020/09/28 18:49', '2020/09/27 01:32', '2020/09/26 23:13', '2020/09/25 21:10', '2020/09/25 09:08', '2020/09/25 02:14', '2020/09/24 18:57', '2020/09/22 21:49', '2020/09/22 18:08', '2020/09/22 01:22', '2020/09/20 20:34', '2020/09/18 14:18', '2020/09/17 21:49', '2020/09/17 18:40', '2020/09/17 01:20', '2020/09/16 16:53', '2020/09/16 06:34', '2020/09/14 18:39', '2020/09/13 06:17', '2020/09/11 14:16', '2020/09/11 00:01', '2020/09/10 23:10', '2020/09/09 19:47', '2020/09/08 14:26', '2020/09/08 01:52', '2020/09/07 20:30', '2020/09/07 00:26', '2020/09/07 00:13', '2020/09/06 11:54', '2020/09/03 21:23', '2020/09/02 01:11', '2020/09/01 23:15', '2020/08/31 22:35', '2020/08/29 11:44', '2020/08/28 15:52', '2020/08/28 05:03', '2020/08/27 17:13', '2020/08/27 14:12', '2020/08/27 09:03', '2020/08/26 18:19', '2020/08/26 16:05', '2020/08/24 23:41', '2020/08/23 21:21', '2020/08/21 10:44', '2020/08/20 23:24', '2020/08/19 21:48', '2020/08/18 20:32', '2020/08/18 02:35', '2020/08/17 23:25', '2020/08/16 11:39', '2020/08/16 11:37', '2020/08/13 14:52', '2020/08/12 17:28', '2020/08/10 17:31', '2020/08/10 08:04', '2020/08/09 23:38', '2020/08/07 17:24', '2020/08/06 22:56', '2020/08/06 15:16', '2020/08/05 12:05', '2020/08/04 19:00', '2020/08/04 04:05', '2020/08/03 18:41', '2020/08/01 20:08', '2020/08/01 06:49', '2020/08/01 01:21', '2020/07/31 21:48', '2020/07/31 01:46', '2020/07/31 00:03', '2020/07/29 19:53', '2020/07/29 19:06', '2020/07/29 18:42', '2020/07/29 08:11', '2020/07/28 03:37', '2020/07/27 23:52', '2020/07/27 16:16', '2020/07/27 09:31', '2020/07/27 00:21', '2020/07/26 17:56', '2020/07/26 13:33', '2020/07/25 20:21', '2020/07/25 18:56', '2020/07/24 23:42', '2020/07/24 23:11', '2020/07/24 20:07', '2020/07/24 08:53', '2020/07/24 00:04', '2020/07/23 23:51', '2020/07/23 17:10', '2020/07/23 03:00', '2020/07/21 21:43', '2020/07/20 19:00', '2020/07/19 23:37', '2020/07/19 01:10', '2020/07/18 14:05', '2020/07/17 23:37', '2020/07/16 14:09', '2020/07/15 18:13', '2020/07/14 22:01', '2020/07/12 22:19', '2020/07/12 21:50', '2020/07/12 01:35', '2020/07/11 21:52', '2020/07/11 11:22', '2020/07/11 09:33', '2020/07/10 22:27', '2020/07/10 21:13', '2020/07/09 17:55', '2020/07/09 16:45', '2020/07/09 04:07', '2020/07/08 02:05', '2020/07/06 13:30', '2020/07/05 12:38', '2020/07/05 03:39', '2020/07/04 23:56', '2020/07/04 19:10', '2020/07/03 19:23', '2020/07/01 02:28', '2020/06/30 01:11', '2020/06/28 22:19', '2020/06/28 20:33', '2020/06/28 15:37', '2020/06/28 02:24', '2020/06/27 23:52', '2020/06/27 14:59', '2020/06/26 14:07', '2020/06/26 01:55', '2020/06/25 01:13', '2020/06/24 17:34', '2020/06/24 08:17', '2020/06/22 23:33', '2020/06/22 07:37', '2020/06/21 20:32', '2020/06/21 12:28', '2020/06/20 18:00', '2020/06/20 10:27', '2020/06/19 01:16', '2020/06/18 20:02', '2020/06/17 02:44', '2020/06/17 02:43', '2020/06/17 00:42', '2020/06/16 01:01', '2020/06/15 00:38', '2020/06/14 23:12', '2020/06/14 18:44', '2020/06/14 00:19', '2020/06/13 23:00', '2020/06/13 17:55', '2020/06/13 00:50', '2020/06/12 18:31', '2020/06/12 18:01', '2020/06/12 12:39', '2020/06/12 06:30', '2020/06/09 14:36', '2020/06/09 11:22', '2020/06/08 19:10', '2020/06/08 16:21', '2020/06/08 14:39', '2020/06/07 21:05', '2020/06/07 20:11', '2020/06/06 23:55', '2020/06/06 15:20', '2020/06/06 09:21', '2020/06/05 01:43', '2020/06/05 00:17', '2020/06/04 15:19', '2020/06/03 01:02', '2020/06/02 22:53', '2020/06/02 02:33', '2020/06/01 18:33', '2020/05/31 09:51', '2020/05/31 09:11', '2020/05/31 00:27', '2020/05/30 20:22', '2020/05/30 06:40', '2020/05/29 22:43', '2020/05/29 13:16', '2020/05/29 01:55', '2020/05/28 16:38', '2020/05/27 17:32', '2020/05/27 12:36', '2020/05/27 12:23', '2020/05/26 18:00', '2020/05/26 10:02', '2020/05/25 14:56', '2020/05/24 22:27', '2020/05/23 22:07', '2020/05/23 21:03', '2020/05/23 13:07', '2020/05/23 03:16', '2020/05/23 00:06', '2020/05/22 23:21', '2020/05/22 23:16', '2020/05/21 23:17', '2020/05/20 22:50', '2020/05/20 15:45', '2020/05/20 09:34', '2020/05/19 23:22', '2020/05/19 22:13', '2020/05/19 15:42', '2020/05/19 08:59', '2020/05/19 02:32', '2020/05/19 00:00', '2020/05/18 12:49', '2020/05/18 05:44', '2020/05/18 05:22', '2020/05/17 23:23', '2020/05/17 12:39', '2020/05/17 11:38', '2020/05/16 17:27', '2020/05/16 12:38', '2020/05/16 10:44', '2020/05/16 00:11', '2020/05/15 13:00', '2020/05/15 00:43', '2020/05/14 16:17', '2020/05/14 00:36', '2020/05/13 18:28', '2020/05/13 00:35', '2020/05/12 15:18', '2020/05/11 16:04', '2020/05/11 14:47', '2020/05/10 15:49', '2020/05/10 12:24', '2020/05/10 07:34', '2020/05/10 04:51', '2020/05/10 01:36', '2020/05/09 21:08', '2020/05/09 18:43', '2020/05/09 18:01', '2020/05/09 15:29', '2020/05/09 14:07', '2020/05/09 06:49', '2020/05/09 02:43', '2020/05/08 13:23', '2020/05/08 00:40', '2020/05/07 21:22', '2020/05/07 19:19', '2020/05/07 17:33', '2020/05/06 23:40', '2020/05/06 22:14', '2020/05/06 13:28', '2020/05/06 12:55', '2020/05/06 11:54', '2020/05/06 04:01', '2020/05/05 22:58', '2020/05/05 19:48', '2020/05/05 17:16', '2020/05/05 15:38', '2020/05/05 13:09', '2020/05/05 01:19', '2020/05/04 15:06', '2020/05/04 11:49', '2020/05/03 23:13', '2020/05/03 22:37', '2020/05/03 16:27', '2020/05/03 14:49', '2020/05/03 08:55', '2020/05/03 03:48', '2020/05/03 03:18', '2020/05/03 01:55', '2020/05/02 21:46', '2020/05/02 20:16', '2020/05/02 18:59', '2020/05/02 11:14', '2020/05/01 16:35', '2020/05/01 15:29', '2020/04/30 23:43', '2020/04/30 22:07', '2020/04/30 16:15', '2020/04/30 15:48', '2020/04/30 11:35', '2020/04/29 00:27', '2020/04/28 19:51', '2020/04/28 13:58', '2020/04/28 07:34', '2020/04/28 07:28', '2020/04/27 08:59', '2020/04/26 17:47', '2020/04/26 13:57', '2020/04/26 10:24', '2020/04/26 10:10', '2020/04/25 19:30', '2020/04/25 15:43', '2020/04/24 21:32', '2020/04/24 08:45', '2020/04/24 07:28', '2020/04/24 01:03', '2020/04/23 23:19', '2020/04/23 21:18', '2020/04/23 16:40', '2020/04/22 20:05', '2020/04/22 14:55', '2020/04/22 10:53', '2020/04/21 23:00', '2020/04/21 02:32', '2020/04/21 00:07', '2020/04/20 21:09', '2020/04/20 10:13', '2020/04/19 21:42', '2020/04/19 21:05', '2020/04/19 17:24', '2020/04/18 05:26', '2020/04/18 04:45', '2020/04/17 23:48', '2020/04/15 03:39', '2020/04/13 19:27', '2020/04/13 03:45', '2020/04/12 17:18', '2020/04/12 16:37', '2020/04/12 15:47', '2020/04/11 23:14', '2020/04/11 03:26', '2020/04/10 01:50', '2020/04/09 18:27', '2020/04/09 01:26', '2020/04/08 13:01', '2020/04/08 00:30', '2020/04/07 14:49', '2020/04/06 02:15', '2020/04/05 17:15', '2020/04/05 13:59', '2020/04/05 00:49', '2020/04/04 21:47', '2020/04/04 01:37', '2020/04/04 00:38', '2020/04/03 17:56', '2020/04/03 10:06', '2020/04/03 00:16', '2020/04/02 23:15', '2020/04/01 18:48', '2020/04/01 02:01', '2020/03/31 05:27', '2020/03/29 00:20', '2020/03/28 12:14', '2020/03/26 19:31', '2020/03/26 01:54', '2020/03/24 03:17', '2020/03/24 03:16', '2020/03/23 00:55', '2020/03/22 22:28', '2020/03/22 13:02', '2020/03/22 02:59', '2020/03/20 13:51', '2020/03/19 12:48', '2020/03/18 01:33', '2020/03/17 22:59', '2020/03/17 01:38', '2020/03/16 17:02', '2020/03/10 22:44', '2020/03/10 10:51', '2020/03/10 05:29', '2020/03/10 01:00', '2020/03/09 13:03', '2020/03/08 20:14', '2020/03/07 09:23', '2020/03/07 00:32', '2020/03/05 00:00', '2020/03/04 06:20', '2020/03/04 00:24', '2020/03/04 00:09', '2020/03/01 22:25', '2020/03/01 13:35', '2020/02/29 19:46', '2020/02/27 22:26', '2020/02/24 20:13', '2020/02/24 17:52', '2020/02/23 20:20', '2020/02/23 13:14', '2020/02/22 07:30', '2020/02/21 02:09', '2020/02/18 22:22', '2020/02/18 10:09', '2020/02/18 00:57', '2020/02/15 18:37', '2020/02/15 18:07', '2020/02/15 17:27', '2020/02/15 03:51', '2020/02/11 18:01', '2020/02/11 11:37', '2020/02/11 03:37', '2020/02/10 16:42', '2020/02/09 20:53', '2020/02/08 23:09', '2020/02/05 05:02', '2020/02/04 18:47', '2020/02/02 14:55', '2020/02/02 11:06', '2020/02/01 09:24', '2020/01/31 16:54', '2020/01/31 00:59', '2020/01/31 00:38', '2020/01/29 12:14', '2020/01/29 08:24', '2020/01/28 23:03', '2020/01/27 16:17', '2020/01/26 19:29', '2020/01/26 19:28', '2020/01/26 00:33', '2020/01/22 15:04', '2020/01/20 23:21', '2020/01/19 19:17', '2020/01/18 10:39', '2020/01/18 08:03', '2020/01/17 19:53', '2020/01/17 19:41', '2020/01/17 09:51', '2020/01/17 01:23', '2020/01/16 22:04', '2020/01/15 01:38', '2020/01/13 23:33', '2020/01/13 08:59', '2020/01/12 12:06', '2020/01/12 10:58', '2020/01/11 20:24', '2020/01/08 23:12', '2020/01/07 12:24', '2020/01/06 21:42', '2020/01/06 13:10', '2020/01/06 00:41', '2020/01/05 14:23', '2020/01/04 19:29', '2020/01/04 15:59', '2020/01/04 01:12', '2020/01/03 16:29', '2020/01/03 14:38', '2020/01/03 14:26', '2020/01/02 23:51', '2020/01/02 17:26', '2020/01/01 02:32', '2019/12/31 22:46', '2019/12/31 20:23', '2019/12/31 16:33', '2019/12/31 15:26', '2019/12/31 12:18', '2019/12/31 08:58', '2019/12/30 23:14', '2019/12/30 21:42', '2019/12/29 23:44', '2019/12/28 15:12', '2019/12/25 10:54', '2019/12/23 14:05', '2019/12/21 23:04', '2019/12/19 16:01', '2019/12/18 20:37', '2019/12/10 22:07', '2019/12/10 20:17', '2019/12/10 16:39', '2019/12/09 18:53', '2019/12/08 09:33', '2019/12/07 19:37', '2019/12/07 13:35', '2019/12/05 20:35', '2019/12/03 02:40', '2019/12/01 21:21', '2019/11/29 08:37', '2019/11/29 01:32', '2019/11/27 20:16', '2019/11/27 10:35', '2019/11/25 23:15', '2019/11/24 18:32', '2019/11/24 12:35', '2019/11/22 21:16', '2019/11/22 03:05', '2019/11/22 01:48', '2019/11/20 19:09', '2019/11/19 06:55', '2019/11/18 17:02', '2019/11/18 15:11', '2019/11/17 18:57', '2019/11/16 17:10', '2019/11/16 02:38', '2019/11/14 16:29', '2019/11/14 07:08', '2019/11/14 03:15', '2019/11/14 01:37', '2019/11/12 20:51', '2019/11/12 12:26', '2019/11/10 23:14', '2019/11/10 20:56', '2019/11/09 21:35', '2019/11/08 11:00', '2019/11/08 00:06', '2019/11/07 21:50', '2019/11/05 13:27', '2019/11/05 03:30', '2019/11/04 18:15', '2019/11/04 14:57', '2019/11/03 22:06', '2019/11/02 02:42', '2019/10/30 21:58', '2019/10/28 13:17', '2019/10/27 18:50', '2019/10/27 18:40', '2019/10/27 11:32', '2019/10/26 02:14', '2019/10/26 00:56', '2019/10/23 23:02', '2019/10/22 22:55', '2019/10/22 22:08', '2019/10/22 12:36', '2019/10/22 12:12', '2019/10/21 16:42', '2019/10/21 11:24', '2019/10/19 17:09', '2019/10/19 01:01', '2019/10/18 22:50', '2019/10/18 00:31', '2019/10/16 21:58', '2019/10/16 01:32', '2019/10/12 23:12', '2019/10/09 15:07', '2019/10/06 20:11', '2019/10/02 22:55', '2019/10/01 02:35', '2019/09/30 20:20', '2019/09/30 04:10', '2019/09/28 13:19', '2019/09/26 13:45', '2019/09/23 00:23', '2019/09/21 21:56', '2019/09/21 11:48', '2019/09/18 13:47', '2019/09/18 08:09', '2019/09/16 15:56', '2019/09/15 16:10', '2019/09/15 10:38', '2019/09/12 16:25', '2019/09/12 14:14', '2019/09/11 17:11', '2019/09/07 20:21', '2019/09/02 13:15', '2019/09/02 04:51', '2019/08/31 17:01', '2019/08/29 09:05', '2019/08/29 01:01', '2019/08/27 16:48', '2019/08/27 03:08', '2019/08/21 23:31', '2019/08/18 23:07', '2019/08/18 14:25', '2019/08/16 19:43', '2019/08/16 02:27', '2019/08/15 23:48', '2019/08/15 23:16', '2019/08/15 22:35', '2019/08/15 07:20', '2019/08/14 01:19', '2019/08/07 00:39', '2019/08/06 21:36', '2019/08/04 12:36', '2019/08/02 16:56', '2019/07/30 13:54', '2019/07/30 10:32', '2019/07/24 17:53', '2019/07/22 02:18', '2019/07/21 21:05', '2019/07/20 18:40', '2019/07/19 09:54', '2019/07/18 21:24', '2019/07/17 20:26', '2019/07/15 21:41', '2019/07/15 19:01', '2019/07/15 13:09', '2019/07/14 16:56', '2019/07/10 08:00', '2019/07/09 22:38', '2019/07/09 00:34', '2019/07/08 20:49', '2019/07/06 23:50', '2019/07/06 19:52', '2019/07/04 17:55', '2019/07/04 16:52', '2019/07/04 11:57', '2019/06/29 02:31', '2019/06/28 20:34', '2019/06/27 22:00', '2019/06/27 01:35', '2019/06/22 20:13', '2019/06/21 23:43', '2019/06/21 03:16', '2019/06/20 22:26', '2019/06/18 00:29', '2019/06/17 20:02', '2019/06/15 07:50', '2019/06/14 02:49', '2019/06/13 17:58', '2019/06/13 10:54', '2019/06/13 02:19', '2019/06/13 01:02', '2019/06/12 20:38', '2019/06/09 20:56', '2019/06/09 02:09', '2019/06/08 22:11', '2019/06/06 22:51', '2019/06/04 21:33', '2019/06/03 22:25', '2019/06/03 21:07', '2019/05/27 21:27', '2019/05/26 15:01', '2019/05/25 14:57', '2019/05/23 11:21', '2019/05/19 22:27', '2019/05/19 10:51', '2019/05/18 04:29', '2019/05/16 22:54', '2019/05/16 16:43', '2019/05/14 22:35', '2019/05/12 10:48', '2019/05/11 22:22', '2019/05/11 20:34', '2019/05/11 11:01', '2019/05/10 01:05', '2019/05/04 16:45', '2019/05/04 01:37', '2019/05/03 17:36', '2019/05/03 04:33', '2019/05/01 00:35', '2019/04/30 16:32', '2019/04/30 02:26', '2019/04/25 23:50', '2019/04/24 16:11', '2019/04/19 04:54', '2019/04/15 00:13', '2019/04/12 18:43', '2019/04/11 07:38', '2019/04/09 23:23', '2019/04/02 23:52', '2019/03/31 20:57', '2019/03/31 17:35', '2019/03/31 16:13', '2019/03/31 13:52', '2019/03/30 13:36', '2019/03/28 01:08', '2019/03/26 16:31', '2019/03/25 20:53', '2019/03/24 17:08', '2019/03/24 13:35', '2019/03/24 01:50', '2019/03/23 02:37', '2019/03/22 16:52', '2019/03/21 22:46', '2019/03/20 21:50', '2019/03/19 18:09', '2019/03/18 17:35', '2019/03/18 14:35', '2019/03/18 08:45', '2019/03/16 20:59', '2019/03/14 16:53', '2019/03/14 06:00', '2019/03/12 21:19', '2019/03/12 14:05', '2019/03/12 12:32', '2019/03/10 13:32', '2019/03/10 08:12', '2019/03/09 23:20', '2019/03/09 20:30', '2019/03/09 17:53', '2019/03/06 21:53', '2019/03/06 00:22', '2019/03/05 16:55', '2019/03/05 16:12', '2019/03/05 10:27', '2019/03/05 01:53', '2019/03/05 00:56', '2019/03/05 00:30', '2019/03/04 13:56', '2019/03/03 23:47', '2019/03/03 15:42', '2019/03/02 08:21', '2019/03/02 02:54', '2019/03/01 05:45', '2019/03/01 01:37', '2019/02/28 17:06', '2019/02/27 20:49', '2019/02/26 20:39', '2019/02/26 16:29', '2019/02/25 18:49', '2019/02/24 20:48', '2019/02/24 17:15', '2019/02/24 13:32', '2019/02/22 11:38', '2019/02/22 03:19', '2019/02/22 00:02', '2019/02/21 09:01', '2019/02/19 17:01', '2019/02/19 09:06', '2019/02/18 23:04', '2019/02/18 22:39', '2019/02/17 23:15', '2019/02/17 17:29', '2019/02/17 13:58', '2019/02/16 21:56', '2019/02/16 18:43', '2019/02/16 13:19', '2019/02/16 13:12', '2019/02/16 02:36', '2019/02/16 00:38', '2019/02/15 22:24', '2019/02/15 22:16', '2019/02/15 22:10', '2019/02/15 16:29', '2019/02/15 15:03', '2019/02/15 13:17', '2019/02/15 08:17', '2019/02/14 22:46', '2019/02/14 22:13', '2019/02/14 22:01', '2019/02/14 19:50', '2019/02/14 19:08', '2019/02/11 19:44', '2019/02/10 01:27', '2019/02/09 22:19', '2019/02/09 19:56', '2019/02/09 15:01', '2019/02/09 14:55', '2019/02/08 03:50', '2019/02/07 22:47', '2019/02/06 23:51', '2019/02/04 17:42', '2019/01/31 03:24', '2019/01/30 02:27', '2019/01/29 21:34', '2019/01/29 14:46', '2019/01/27 21:53', '2019/01/26 21:44', '2019/01/24 06:02', '2019/01/23 23:06', '2019/01/22 17:40', '2019/01/22 01:38', '2019/01/19 15:20', '2019/01/18 21:24', '2019/01/18 19:09', '2019/01/12 20:59', '2019/01/11 17:44', '2019/01/11 01:31', '2019/01/09 22:36', '2019/01/06 23:02', '2019/01/06 21:49', '2019/01/06 13:43', '2019/01/06 02:39', '2019/01/06 00:41', '2019/01/05 23:04', '2019/01/04 00:47', '2019/01/03 16:45', '2019/01/03 16:16', '2019/01/03 12:53', '2019/01/03 02:27', '2018/12/29 23:48', '2018/12/29 20:58', '2018/12/27 19:29', '2018/12/27 18:51', '2018/12/26 21:33', '2018/12/21 18:56', '2018/12/18 20:36', '2018/12/17 20:44', '2018/12/13 15:46', '2018/12/13 07:25', '2018/12/12 22:56', '2018/12/12 02:32', '2018/12/11 14:14', '2018/12/10 09:43', '2018/12/09 22:11', '2018/12/09 13:22', '2018/12/06 23:18', '2018/12/05 00:08', '2018/12/04 21:06', '2018/11/29 21:19', '2018/11/29 02:31', '2018/11/28 23:43', '2018/11/28 15:23', '2018/11/28 11:24', '2018/11/27 21:38', '2018/11/27 15:01', '2018/11/26 18:08', '2018/11/24 21:33', '2018/11/23 21:22', '2018/11/23 17:23', '2018/11/23 08:27', '2018/11/20 19:19', '2018/11/19 13:24', '2018/11/18 23:44', '2018/11/18 16:45', '2018/11/14 02:23', '2018/11/11 19:01', '2018/11/11 12:16', '2018/11/11 06:47', '2018/11/08 21:31', '2018/11/08 18:07', '2018/11/03 23:51', '2018/11/03 22:21', '2018/11/03 19:21', '2018/10/31 01:50', '2018/10/29 15:52', '2018/10/26 14:22', '2018/10/21 23:58', '2018/10/18 18:25', '2018/10/13 16:35', '2018/10/13 07:40', '2018/10/12 23:16', '2018/10/12 10:12', '2018/10/11 13:49', '2018/10/10 19:27', '2018/10/09 15:54', '2018/10/09 01:37', '2018/10/08 16:23', '2018/10/06 23:08', '2018/10/04 03:21', '2018/10/03 10:09', '2018/10/02 21:38', '2018/09/27 23:49', '2018/09/27 21:20', '2018/09/24 17:19', '2018/09/24 13:43', '2018/09/23 23:48', '2018/09/22 22:07', '2018/09/18 13:53', '2018/09/18 08:13', '2018/09/11 14:12', '2018/09/10 22:19', '2018/09/10 17:41', '2018/09/08 11:53', '2018/09/06 19:28', '2018/09/05 16:27', '2018/09/04 03:19', '2018/09/02 22:40', '2018/09/01 12:55', '2018/08/31 21:19', '2018/08/30 16:37', '2018/08/29 22:10', '2018/08/29 20:48', '2018/08/28 20:44', '2018/08/26 16:41', '2018/08/26 11:09', '2018/08/24 02:20', '2018/08/23 13:53', '2018/08/23 08:00', '2018/08/21 13:17', '2018/08/21 02:01', '2018/08/21 00:04', '2018/08/17 22:42', '2018/08/17 12:58', '2018/08/17 00:31', '2018/08/16 00:04', '2018/08/14 15:32', '2018/08/13 21:44', '2018/08/13 21:08', '2018/08/11 08:17', '2018/08/10 21:36', '2018/08/04 17:08', '2018/08/04 00:07', '2018/08/01 12:03', '2018/07/31 13:46', '2018/07/23 09:46', '2018/07/22 19:57', '2018/07/19 01:15', '2018/07/05 23:42', '2018/07/05 20:10', '2018/07/05 03:33', '2018/07/02 19:03', '2018/07/02 15:45', '2018/06/30 09:47', '2018/06/28 23:29', '2018/06/27 11:53', '2018/06/27 07:16', '2018/06/26 20:00', '2018/06/26 04:14', '2018/06/26 01:30', '2018/06/24 15:32', '2018/06/21 22:29', '2018/06/20 18:55', '2018/06/19 22:04', '2018/06/18 19:13', '2018/06/15 17:33', '2018/06/13 22:04', '2018/06/07 20:36', '2018/06/06 22:12', '2018/06/06 21:22', '2018/06/06 20:42', '2018/06/03 23:35', '2018/05/29 01:18', '2018/05/27 18:01', '2018/05/27 12:47', '2018/05/27 02:54', '2018/05/26 18:16', '2018/05/25 07:22', '2018/05/24 14:19', '2018/05/20 23:42', '2018/05/18 21:46', '2018/05/18 21:09', '2018/05/17 13:10', '2018/05/13 10:14', '2018/05/13 07:50', '2018/05/12 22:55', '2018/05/10 21:31', '2018/05/09 23:55', '2018/05/09 10:34', '2018/05/06 23:40', '2018/05/05 11:20', '2018/05/05 06:54', '2018/05/04 19:24', '2018/05/04 17:35', '2018/05/04 01:03', '2018/05/02 22:02', '2018/04/30 19:34', '2018/04/30 11:33', '2018/04/29 15:52', '2018/04/29 11:27', '2018/04/24 18:45', '2018/04/24 15:11', '2018/04/23 22:49', '2018/04/23 13:23', '2018/04/21 18:07', '2018/04/21 15:30', '2018/04/20 01:12', '2018/04/18 19:04', '2018/04/18 10:35', '2018/04/17 05:23', '2018/04/16 13:39', '2018/04/13 11:20', '2018/04/11 19:27', '2018/04/10 20:54', '2018/04/05 09:41', '2018/04/03 08:05', '2018/04/01 16:06', '2018/03/31 16:23', '2018/03/31 10:45', '2018/03/26 19:19', '2018/03/24 21:03', '2018/03/21 13:01', '2018/03/19 22:36', '2018/03/19 02:46', '2018/03/19 02:17', '2018/03/16 00:04', '2018/03/15 18:27', '2018/03/14 04:00', '2018/03/13 22:13', '2018/03/11 23:20', '2018/03/10 19:35', '2018/03/09 19:21', '2018/03/01 21:09', '2018/03/01 14:43', '2018/03/01 01:10', '2018/02/28 03:50', '2018/02/28 00:10', '2018/02/26 18:38', '2018/02/26 17:44', '2018/02/26 15:12', '2018/02/24 13:50', '2018/02/21 17:42', '2018/02/20 05:03', '2018/02/18 02:35', '2018/02/16 11:05', '2018/02/15 16:09', '2018/02/14 21:44', '2018/02/13 17:18', '2018/02/12 18:35', '2018/02/12 15:32', '2018/02/11 23:22', '2018/02/10 01:44', '2018/02/09 10:16', '2018/02/08 23:03', '2018/02/07 18:14', '2018/02/06 02:10', '2018/02/05 23:04', '2018/02/04 23:58', '2018/02/04 17:15', '2018/02/04 11:27', '2018/02/03 10:41', '2018/01/31 20:47', '2018/01/31 00:58', '2018/01/30 21:42', '2018/01/29 20:29', '2018/01/27 22:59', '2018/01/27 13:00', '2018/01/25 01:51', '2018/01/23 00:24', '2018/01/22 21:01', '2018/01/22 13:51', '2018/01/21 20:30', '2018/01/18 00:18', '2018/01/17 00:27', '2018/01/16 17:29', '2018/01/14 19:17', '2018/01/14 17:48', '2018/01/13 16:35', '2018/01/09 22:23', '2018/01/09 19:29', '2018/01/09 10:43', '2018/01/08 13:24', '2018/01/06 01:32', '2018/01/06 01:12', '2018/01/04 20:02', '2018/01/04 18:35', '2018/01/03 16:30', '2018/01/01 19:07', '2017/12/29 11:13', '2017/12/29 05:39', '2017/12/28 23:39', '2017/12/26 14:38', '2017/12/23 00:59', '2017/12/22 20:23', '2017/12/22 12:54', '2017/12/21 08:41', '2017/12/19 00:09', '2017/12/16 19:23', '2017/12/14 18:25', '2017/12/14 17:58', '2017/12/14 02:26', '2017/12/09 19:37', '2017/12/09 09:38', '2017/12/08 14:30', '2017/12/07 00:30', '2017/12/05 15:37', '2017/12/05 01:28', '2017/12/03 12:04', '2017/12/03 04:36', '2017/12/02 11:04', '2017/12/02 10:09', '2017/12/01 15:21', '2017/12/01 00:14', '2017/11/30 20:29', '2017/11/30 16:06', '2017/11/29 16:45', '2017/11/26 17:38', '2017/11/26 01:47', '2017/11/23 20:52', '2017/11/23 20:00', '2017/11/23 14:08', '2017/11/19 11:20', '2017/11/18 23:16', '2017/11/18 21:55', '2017/11/18 10:21', '2017/11/17 21:50', '2017/11/17 18:31', '2017/11/16 10:30', '2017/11/16 01:40', '2017/11/15 12:12', '2017/11/15 03:38', '2017/11/15 00:40', '2017/11/14 22:26', '2017/11/14 21:32', '2017/11/13 21:50', '2017/11/13 16:44', '2017/11/13 08:46', '2017/11/13 08:42', '2017/11/12 19:26', '2017/11/11 17:10', '2017/11/11 15:37', '2017/11/11 15:31', '2017/11/11 14:22', '2017/11/11 12:40', '2017/11/09 22:23', '2017/11/08 02:07', '2017/11/05 21:23', '2017/11/04 23:23', '2017/11/04 13:12', '2017/11/03 12:11', '2017/11/01 21:01', '2017/10/31 19:06', '2017/10/30 23:37', '2017/10/29 13:51', '2017/10/29 09:36', '2017/10/29 09:29', '2017/10/25 06:44', '2017/10/21 10:05', '2017/10/17 22:46', '2017/10/15 22:40', '2017/10/15 10:29', '2017/10/12 23:42', '2017/10/12 22:45', '2017/10/09 22:32', '2017/10/07 20:12', '2017/10/07 00:08', '2017/10/07 00:01', '2017/10/06 12:42', '2017/10/06 01:48', '2017/10/05 01:38', '2017/10/05 01:31', '2017/10/04 13:17', '2017/10/03 09:22', '2017/10/02 21:40', '2017/10/01 10:36', '2017/09/30 21:31', '2017/09/30 10:39', '2017/09/29 07:16', '2017/09/25 19:33', '2017/09/23 16:34', '2017/09/23 12:16', '2017/09/22 09:55', '2017/09/21 22:32', '2017/09/19 19:32', '2017/09/19 00:15', '2017/09/18 10:51', '2017/09/17 23:13', '2017/09/17 13:46', '2017/09/17 13:39', '2017/09/17 00:21', '2017/09/16 13:11', '2017/09/13 09:33', '2017/09/10 21:39', '2017/09/10 00:22', '2017/09/09 14:23', '2017/09/04 20:33', '2017/09/04 02:25', '2017/09/03 09:44', '2017/09/02 01:46', '2017/08/31 23:12', '2017/08/31 11:50', '2017/08/30 21:49', '2017/08/27 20:26', '2017/08/27 18:23', '2017/08/27 04:20', '2017/08/25 11:25', '2017/08/23 21:23', '2017/08/22 21:44', '2017/08/19 17:15', '2017/08/19 11:48', '2017/08/18 22:45', '2017/08/18 10:33', '2017/08/16 12:49', '2017/08/15 15:58', '2017/08/13 22:03', '2017/08/12 00:56', '2017/08/07 12:01', '2017/08/06 23:14', '2017/08/02 01:46', '2017/08/01 22:02', '2017/08/01 18:40', '2017/08/01 14:03', '2017/07/29 12:42', '2017/07/28 06:00', '2017/07/27 14:20', '2017/07/24 11:40', '2017/07/24 11:13', '2017/07/22 22:20', '2017/07/22 13:16', '2017/07/22 03:09', '2017/07/22 01:44', '2017/07/21 23:39', '2017/07/21 14:31', '2017/07/18 10:45', '2017/07/16 19:23', '2017/07/14 11:49', '2017/07/13 22:04', '2017/07/12 10:39', '2017/07/08 15:26', '2017/07/06 16:46', '2017/07/06 09:18', '2017/07/02 01:50', '2017/06/30 20:58', '2017/06/30 15:25', '2017/06/28 20:26', '2017/06/27 23:28', '2017/06/27 14:27', '2017/06/26 22:44', '2017/06/25 19:52', '2017/06/22 18:56', '2017/06/20 21:52', '2017/06/19 13:12', '2017/06/19 00:18', '2017/06/18 02:23', '2017/06/17 09:47', '2017/06/13 23:55', '2017/06/13 00:23', '2017/06/11 18:05', '2017/06/11 16:00', '2017/06/11 11:01', '2017/06/10 00:03', '2017/06/07 20:45', '2017/06/07 18:27', '2017/06/07 13:14', '2017/06/05 11:47', '2017/06/04 17:16', '2017/06/04 14:35', '2017/06/04 03:07', '2017/05/31 03:29', '2017/05/30 04:40', '2017/05/28 23:57', '2017/05/28 17:43', '2017/05/28 12:47', '2017/05/27 09:49', '2017/05/27 03:22', '2017/05/25 00:17', '2017/05/25 00:06', '2017/05/24 14:18', '2017/05/23 01:25', '2017/05/20 23:09', '2017/05/20 19:15', '2017/05/18 06:11', '2017/05/15 23:50', '2017/05/15 23:12', '2017/05/15 15:22', '2017/05/14 23:05', '2017/05/14 22:22', '2017/05/14 20:11', '2017/05/14 14:42', '2017/05/14 14:08', '2017/05/13 16:19', '2017/05/13 14:14', '2017/05/13 07:52', '2017/05/12 23:13', '2017/05/12 21:28', '2017/05/12 16:50', '2017/05/12 15:36', '2017/05/12 12:40', '2017/05/12 12:32', '2017/05/12 02:23', '2017/05/11 18:20', '2017/05/11 14:02', '2017/05/11 07:00', '2017/05/10 19:45', '2017/05/10 14:54', '2017/05/10 13:09', '2017/05/10 09:26', '2017/05/09 22:51', '2017/05/09 21:45', '2017/05/09 20:43', '2017/05/09 15:01', '2017/05/09 12:58', '2017/05/09 12:07', '2017/05/09 03:48', '2017/05/08 21:42', '2017/05/08 21:23', '2017/05/08 12:53', '2017/05/08 12:43', '2017/05/08 12:28', '2017/05/07 23:20', '2017/05/07 23:15', '2017/05/07 22:55', '2017/05/07 20:40', '2017/05/07 19:18', '2017/05/07 18:31', '2017/05/07 17:45', '2017/05/07 12:43', '2017/05/07 12:09', '2017/05/07 10:00', '2017/05/07 09:52', '2017/05/07 08:34', '2017/05/07 02:12', '2017/05/07 00:26', '2017/05/06 18:35', '2017/05/06 13:45', '2017/05/06 12:08', '2017/05/06 07:44', '2017/05/06 00:48', '2017/05/05 12:28', '2017/05/05 12:17', '2017/05/04 22:04', '2017/05/04 15:34', '2017/05/04 13:49', '2017/05/04 12:28', '2017/05/03 20:27', '2017/05/03 18:12', '2017/05/03 15:35', '2017/05/03 13:29', '2017/05/03 13:03', '2017/05/03 12:33', '2017/05/03 08:37', '2017/05/03 00:23', '2017/05/02 22:41', '2017/05/02 18:06', '2017/05/02 13:02', '2017/05/02 12:49', '2017/05/02 00:05', '2017/05/01 20:19', '2017/05/01 16:28', '2017/05/01 16:06', '2017/05/01 15:50', '2017/05/01 12:34', '2017/04/30 18:08', '2017/04/30 14:39', '2017/04/30 14:10', '2017/04/30 13:36', '2017/04/30 12:30', '2017/04/30 00:47', '2017/04/30 00:26', '2017/04/29 22:25', '2017/04/29 12:57', '2017/04/27 01:02', '2017/04/25 20:36', '2017/04/23 20:55', '2017/04/23 12:29', '2017/04/19 08:13', '2017/04/18 14:59', '2017/04/18 05:12', '2017/04/18 02:03', '2017/04/17 14:22', '2017/04/15 15:01', '2017/04/15 12:04', '2017/04/15 01:23', '2017/04/13 20:52', '2017/04/13 15:34', '2017/04/12 23:30', '2017/04/12 21:56', '2017/04/12 01:04', '2017/04/11 16:48', '2017/04/10 23:26', '2017/04/10 14:46', '2017/04/08 05:09', '2017/04/05 09:03', '2017/04/03 19:45', '2017/04/02 21:24', '2017/04/02 13:11', '2017/04/01 12:52', '2017/03/31 02:31', '2017/03/30 23:25', '2017/03/30 10:06', '2017/03/29 20:28', '2017/03/29 00:20', '2017/03/28 17:00', '2017/03/27 14:22', '2017/03/26 17:05', '2017/03/24 21:45', '2017/03/23 23:07', '2017/03/21 23:13', '2017/03/18 19:50', '2017/03/18 17:55', '2017/03/13 23:15', '2017/03/13 17:11', '2017/03/13 01:42', '2017/03/12 22:04', '2017/03/10 18:44', '2017/03/10 13:21', '2017/03/10 10:53', '2017/03/10 01:01', '2017/03/08 21:57', '2017/03/08 19:14', '2017/03/08 14:19', '2017/03/07 21:46', '2017/03/07 09:51', '2017/03/06 21:55', '2017/03/06 00:13', '2017/03/02 00:06', '2017/03/01 23:47', '2017/02/28 21:43', '2017/02/28 00:31', '2017/02/27 23:16', '2017/02/27 19:20', '2017/02/26 20:36', '2017/02/22 22:34', '2017/02/22 13:53', '2017/02/22 00:47', '2017/02/21 22:53', '2017/02/20 23:50', '2017/02/16 08:30', '2017/02/16 00:46', '2017/02/14 09:22', '2017/02/12 18:19', '2017/02/11 22:37', '2017/02/11 01:22', '2017/02/09 21:01', '2017/02/09 02:55', '2017/02/04 01:51', '2017/02/01 21:02', '2017/01/31 11:47', '2017/01/29 21:48', '2017/01/29 18:50', '2017/01/29 01:38', '2017/01/28 13:09', '2017/01/28 11:23', '2017/01/26 02:30', '2017/01/23 14:26', '2017/01/23 03:58', '2017/01/22 13:35', '2017/01/20 12:46', '2017/01/18 13:44', '2017/01/18 02:05', '2017/01/16 15:51', '2017/01/14 21:18', '2017/01/13 02:47', '2017/01/10 09:58', '2017/01/09 03:31', '2017/01/08 09:47', '2017/01/05 19:22', '2017/01/05 12:39', '2017/01/04 15:52', '2017/01/04 07:28', '2017/01/03 10:20', '2017/01/02 19:51', '2016/12/31 21:58', '2016/12/29 11:34', '2016/12/28 07:29', '2016/12/27 20:42', '2016/12/25 23:01', '2016/12/25 14:21', '2016/12/24 18:01', '2016/12/22 22:41', '2016/12/20 03:31', '2016/12/20 01:10', '2016/12/19 23:54', '2016/12/19 21:11', '2016/12/17 21:26', '2016/12/17 17:55', '2016/12/16 07:41', '2016/12/15 20:58', '2016/12/14 16:55', '2016/12/12 14:11', '2016/12/12 03:14', '2016/12/12 00:08', '2016/12/11 22:43', '2016/12/09 13:11', '2016/12/09 06:31', '2016/12/07 16:29', '2016/12/03 22:22', '2016/12/01 23:39', '2016/12/01 21:35', '2016/11/30 18:37', '2016/11/28 22:12', '2016/11/28 13:09', '2016/11/27 15:47', '2016/11/26 20:12', '2016/11/25 21:14', '2016/11/23 01:51', '2016/11/22 18:54', '2016/11/22 16:00', '2016/11/22 07:25', '2016/11/20 17:01', '2016/11/20 13:44', '2016/11/18 21:36', '2016/11/18 17:05', '2016/11/17 18:38', '2016/11/16 15:35', '2016/11/16 01:11', '2016/11/16 00:01', '2016/11/15 17:45', '2016/11/14 01:58', '2016/11/13 23:27', '2016/11/13 12:19', '2016/11/12 15:46', '2016/11/10 20:38', '2016/11/08 22:36', '2016/11/08 21:27', '2016/11/08 21:11', '2016/11/07 20:50', '2016/11/07 13:19', '2016/11/05 22:59', '2016/11/05 11:17', '2016/11/04 01:35', '2016/11/04 01:12', '2016/11/03 21:37', '2016/11/03 21:15', '2016/11/03 20:35', '2016/11/03 13:02', '2016/11/01 17:29', '2016/10/31 22:53', '2016/10/31 20:16', '2016/10/31 20:08', '2016/10/29 17:51', '2016/10/28 12:24', '2016/10/26 15:21', '2016/10/25 23:59', '2016/10/24 02:49', '2016/10/20 17:03', '2016/10/18 12:19', '2016/10/16 09:54', '2016/10/15 23:13', '2016/10/15 00:59', '2016/10/08 20:44', '2016/10/08 18:02', '2016/10/07 20:22', '2016/10/07 00:13', '2016/10/06 03:12', '2016/10/05 23:44', '2016/10/05 21:24', '2016/10/05 11:51', '2016/10/04 16:09', '2016/10/04 15:49', '2016/10/02 15:23', '2016/10/01 21:26', '2016/10/01 18:44', '2016/09/30 03:47', '2016/09/29 00:51', '2016/09/27 21:19', '2016/09/25 13:08', '2016/09/25 08:20', '2016/09/24 20:27', '2016/09/23 20:05', '2016/09/22 23:44', '2016/09/21 21:02', '2016/09/21 11:30', '2016/09/21 10:21', '2016/09/20 18:37', '2016/09/20 15:30', '2016/09/18 10:56', '2016/09/16 21:39', '2016/09/16 18:44', '2016/09/15 17:14', '2016/09/15 16:23', '2016/09/15 15:17', '2016/09/15 03:47', '2016/09/15 01:18', '2016/09/14 20:47', '2016/09/13 23:48', '2016/09/13 12:21', '2016/09/13 00:46', '2016/09/12 22:03', '2016/09/12 01:31', '2016/09/05 02:19', '2016/09/03 22:54', '2016/09/03 08:43', '2016/09/02 19:16', '2016/09/02 01:07', '2016/08/29 01:59', '2016/08/28 13:43', '2016/08/28 13:25', '2016/08/27 20:25', '2016/08/25 12:04', '2016/08/24 00:58', '2016/08/23 12:43', '2016/08/22 21:31', '2016/08/21 18:13', '2016/08/21 01:10', '2016/08/20 23:22', '2016/08/18 20:31', '2016/08/17 17:29', '2016/08/16 11:19', '2016/08/15 22:54', '2016/08/15 18:08', '2016/08/13 03:07', '2016/08/11 10:58', '2016/08/10 21:55', '2016/08/10 10:08', '2016/08/07 01:58', '2016/08/07 00:26', '2016/08/03 14:53', '2016/07/30 01:09', '2016/07/26 00:03', '2016/07/25 11:05', '2016/07/25 00:11', '2016/07/24 19:33', '2016/07/23 11:47', '2016/07/22 23:02', '2016/07/22 01:35', '2016/07/21 09:55', '2016/07/18 01:43', '2016/07/17 02:29', '2016/07/16 09:51', '2016/07/14 22:56', '2016/07/13 16:24', '2016/07/13 16:16', '2016/07/13 09:49', '2016/07/12 21:36', '2016/07/11 11:08', '2016/07/11 10:36', '2016/07/09 17:44', '2016/07/06 11:58', '2016/07/05 21:22', '2016/07/03 19:14', '2016/07/03 17:01', '2016/07/02 14:32', '2016/06/29 22:09', '2016/06/27 17:13', '2016/06/27 00:06', '2016/06/26 23:37', '2016/06/24 19:55', '2016/06/23 18:20', '2016/06/21 23:12', '2016/06/21 18:41', '2016/06/19 19:16', '2016/06/17 02:44', '2016/06/16 21:05', '2016/06/16 12:18', '2016/06/14 11:19', '2016/06/13 23:13', '2016/06/12 16:54', '2016/06/10 20:36', '2016/06/10 16:07', '2016/06/09 15:46', '2016/06/07 22:50', '2016/06/07 11:27', '2016/06/06 22:25', '2016/06/05 13:25', '2016/06/05 02:03', '2016/06/04 18:52', '2016/06/04 00:47', '2016/06/03 08:11', '2016/06/03 07:57', '2016/06/02 19:13', '2016/06/02 00:05', '2016/06/01 02:54', '2016/05/31 07:12', '2016/05/29 22:44', '2016/05/26 05:39', '2016/05/24 23:42', '2016/05/23 12:48', '2016/05/22 22:52', '2016/05/22 21:41', '2016/05/22 14:33', '2016/05/20 19:53', '2016/05/18 23:23', '2016/05/18 17:08', '2016/05/18 11:24', '2016/05/18 08:13', '2016/05/18 06:45', '2016/05/16 23:53', '2016/05/16 23:38', '2016/05/16 17:23', '2016/05/16 10:59', '2016/05/16 02:09', '2016/05/15 00:02', '2016/05/14 22:37', '2016/05/14 17:41', '2016/05/14 14:26', '2016/05/14 02:06', '2016/05/13 21:49', '2016/05/13 15:24', '2016/05/13 06:44', '2016/05/13 02:30', '2016/05/12 21:28', '2016/05/12 16:22', '2016/05/09 02:15', '2016/05/07 19:08', '2016/05/06 05:50', '2016/05/05 17:16', '2016/05/03 06:56', '2016/05/03 04:42', '2016/05/01 10:41', '2016/04/30 14:12', '2016/04/30 04:08', '2016/04/29 22:35', '2016/04/24 21:57', '2016/04/24 07:53', '2016/04/23 23:50', '2016/04/20 23:50', '2016/04/17 02:43', '2016/04/12 17:59', '2016/04/10 09:12', '2016/04/10 01:41', '2016/04/07 00:34', '2016/04/05 18:08', '2016/04/05 02:28', '2016/04/03 03:05', '2016/04/03 02:25', '2016/03/28 14:32', '2016/03/27 23:58', '2016/03/27 23:27', '2016/03/27 21:30', '2016/03/27 01:39', '2016/03/26 22:00', '2016/03/26 15:07', '2016/03/26 09:21', '2016/03/25 09:17', '2016/03/23 12:07', '2016/03/21 19:45', '2016/03/20 21:04', '2016/03/20 20:49', '2016/03/13 09:44', '2016/03/09 00:10', '2016/03/06 16:53', '2016/03/05 19:54', '2016/03/05 18:48', '2016/03/05 01:07', '2016/03/03 12:06', '2016/03/01 14:12', '2016/02/25 21:14', '2016/02/23 16:25', '2016/02/23 07:39', '2016/02/18 22:50', '2016/02/18 08:18', '2016/02/15 00:43', '2016/02/13 13:21', '2016/02/11 20:17', '2016/02/11 11:30', '2016/02/10 19:16', '2016/02/09 23:44', '2016/02/09 21:03', '2016/02/08 22:53', '2016/02/08 18:58', '2016/02/08 01:12', '2016/02/07 18:48', '2016/02/06 23:17', '2016/02/06 14:51', '2016/02/06 10:11', '2016/02/04 04:47', '2016/01/30 22:57', '2016/01/27 02:57', '2016/01/26 13:42', '2016/01/26 01:32', '2016/01/25 23:59', '2016/01/24 17:42', '2016/01/23 23:35', '2016/01/20 09:59', '2016/01/20 02:36', '2016/01/19 23:25', '2016/01/18 21:35', '2016/01/18 03:58', '2016/01/18 02:25', '2016/01/17 19:24', '2016/01/17 14:13', '2016/01/17 05:59', '2016/01/09 12:28', '2016/01/07 21:01', '2016/01/06 22:05', '2016/01/06 09:30', '2016/01/06 02:10', '2016/01/03 22:56', '2016/01/03 05:50', '2015/12/31 15:04', '2015/12/31 05:08', '2015/12/30 16:43', '2015/12/28 21:45', '2015/12/27 11:34', '2015/12/26 08:19', '2015/12/26 01:47', '2015/12/24 22:27', '2015/12/22 15:30', '2015/12/19 20:55', '2015/12/15 16:49', '2015/12/13 18:44', '2015/12/10 23:52', '2015/12/08 18:54', '2015/12/08 08:26', '2015/12/07 02:50', '2015/12/04 20:00', '2015/12/01 19:45', '2015/12/01 19:15', '2015/11/30 18:12', '2015/11/29 20:56', '2015/11/29 00:05', '2015/11/23 15:28', '2015/11/23 13:19', '2015/11/19 21:33', '2015/11/18 20:45', '2015/11/14 23:06', '2015/11/14 11:44', '2015/11/13 15:39', '2015/11/12 03:43', '2015/11/10 18:37', '2015/11/06 22:53', '2015/11/06 12:39', '2015/11/06 00:45', '2015/11/01 17:07', '2015/10/31 15:14', '2015/10/31 09:40', '2015/10/29 22:06', '2015/10/28 23:01', '2015/10/25 16:43', '2015/10/23 23:03', '2015/10/23 22:11', '2015/10/19 09:10', '2015/10/18 19:22', '2015/10/16 04:47', '2015/10/16 01:28', '2015/10/15 23:18', '2015/10/15 09:27', '2015/10/13 18:59', '2015/10/05 21:24', '2015/10/03 11:26', '2015/09/30 04:49', '2015/09/29 03:01', '2015/09/29 00:45', '2015/09/27 12:17', '2015/09/26 00:27', '2015/09/24 00:12', '2015/09/22 21:38', '2015/09/17 17:22', '2015/09/17 10:02', '2015/09/17 05:16', '2015/09/07 21:07', '2015/09/07 12:35', '2015/09/05 18:41', '2015/09/04 02:59', '2015/09/03 18:46', '2015/09/03 01:09', '2015/09/02 22:22', '2015/09/01 01:06', '2015/08/31 02:45', '2015/08/31 00:02', '2015/08/30 18:22', '2015/08/29 02:18', '2015/08/27 01:57', '2015/08/25 19:21', '2015/08/24 12:47', '2015/08/21 20:15', '2015/08/17 23:25', '2015/08/10 01:17', '2015/08/03 08:49', '2015/08/02 17:16', '2015/08/02 01:35', '2015/07/29 17:58', '2015/07/27 21:05', '2015/07/27 17:25', '2015/07/26 10:28', '2015/07/19 01:46', '2015/07/02 18:54', '2015/06/30 17:22', '2015/06/29 23:23', '2015/06/28 02:40', '2015/06/24 23:04', '2015/06/21 14:24', '2015/06/11 14:05', '2015/06/09 16:04', '2015/06/06 08:44', '2015/06/05 01:47', '2015/06/05 00:28', '2015/05/28 16:23', '2015/05/22 04:42', '2015/05/18 01:41', '2015/05/15 04:55', '2015/05/11 22:39', '2015/05/11 02:07', '2015/05/08 08:20', '2015/05/06 23:15', '2015/05/05 01:02', '2015/04/29 07:54', '2015/04/26 09:48', '2015/04/23 18:31', '2015/04/14 19:05', '2015/04/13 23:34', '2015/04/10 14:51', '2015/04/09 20:42', '2015/04/05 12:35', '2015/04/04 21:18', '2015/04/04 18:32', '2015/04/04 16:24', '2015/03/31 19:02', '2015/03/23 00:23', '2015/03/23 00:01', '2015/03/17 17:14', '2015/03/17 01:24', '2015/03/15 12:56', '2015/03/13 20:26', '2015/03/13 01:18', '2015/03/12 00:50', '2015/03/11 03:17', '2015/03/10 02:16', '2015/03/09 15:23', '2015/03/08 02:10', '2015/03/05 22:58', '2015/03/04 00:29', '2015/03/02 13:55', '2015/03/02 00:09', '2015/02/27 07:45', '2015/02/26 22:32', '2015/02/26 12:40', '2015/02/18 06:49', '2015/02/14 03:27', '2015/02/13 22:16', '2015/02/13 12:32', '2015/02/13 01:42', '2015/02/12 23:22', '2015/02/11 18:42', '2015/02/08 14:26', '2015/02/08 13:41', '2015/02/08 00:05', '2015/02/07 01:48', '2015/02/05 01:01', '2015/02/03 22:45', '2015/02/03 20:08', '2015/02/03 07:36', '2015/02/03 07:25', '2015/01/31 20:59', '2015/01/31 01:42', '2015/01/29 14:52', '2015/01/28 17:03', '2015/01/28 12:16', '2015/01/27 00:56', '2015/01/22 00:03', '2015/01/20 00:56', '2015/01/17 01:46', '2015/01/16 12:59', '2015/01/15 23:05', '2015/01/11 16:06', '2015/01/10 16:59', '2015/01/10 16:29', '2015/01/10 16:09', '2015/01/06 16:41', '2014/12/25 13:29', '2014/12/23 09:06', '2014/12/17 14:36', '2014/12/13 04:00', '2014/12/12 23:24', '2014/12/12 23:08', '2014/12/07 09:44', '2014/12/05 20:20', '2014/12/03 20:20', '2014/11/28 13:30', '2014/11/26 16:16', '2014/11/24 12:37', '2014/11/24 11:19', '2014/11/23 11:17', '2014/11/23 03:48', '2014/11/22 00:58', '2014/11/19 00:05', '2014/11/18 22:14', '2014/11/18 15:32', '2014/11/13 13:15', '2014/11/08 14:09', '2014/11/07 15:37', '2014/11/06 15:11', '2014/10/30 15:16', '2014/10/29 11:25', '2014/10/27 01:13', '2014/10/26 16:59', '2014/10/25 23:21', '2014/10/23 03:38', '2014/10/21 00:03', '2014/10/20 23:03', '2014/10/19 13:11', '2014/10/18 01:14', '2014/10/14 11:14', '2014/10/13 10:35', '2014/10/11 18:25', '2014/10/11 17:56', '2014/10/05 04:50', '2014/09/30 00:51', '2014/09/27 23:10', '2014/09/27 14:17', '2014/09/24 21:30', '2014/09/21 13:09', '2014/09/20 13:45', '2014/09/15 16:28', '2014/09/15 12:36', '2014/09/15 09:20', '2014/09/07 23:16', '2014/09/05 15:59', '2014/08/22 19:45', '2014/08/15 20:28', '2014/07/28 19:07', '2014/07/19 06:26', '2014/07/17 00:14', '2014/07/16 19:28', '2014/07/12 12:45', '2014/07/08 19:25', '2014/07/07 15:27', '2014/06/05 22:25', '2014/06/05 08:41', '2014/05/31 12:08', '2014/05/28 13:10', '2014/05/07 03:40', '2014/05/02 12:36', '2014/04/25 17:10', '2014/04/23 10:57', '2014/04/18 20:57', '2014/04/08 22:48', '2014/03/26 01:51', '2014/03/25 11:53', '2014/03/22 18:58', '2014/03/21 14:51', '2014/03/11 00:36', '2014/03/10 16:41', '2014/03/03 18:32', '2014/02/19 06:27', '2014/02/18 02:28', '2014/02/06 20:36', '2014/02/01 22:47', '2014/01/23 21:02', '2014/01/23 20:00', '2014/01/22 15:58', '2014/01/20 22:04', '2014/01/17 18:42', '2014/01/16 11:56', '2014/01/15 18:00', '2014/01/08 20:09', '2014/01/04 09:06', '2013/12/29 08:15', '2013/12/20 00:04', '2013/12/14 13:42', '2013/11/19 22:11', '2013/11/19 00:25', '2013/11/02 14:21', '2013/11/01 18:50', '2013/10/26 18:00', '2013/10/16 23:59', '2013/10/09 00:38', '2013/09/23 20:52', '2013/09/22 20:39', '2013/09/20 15:48', '2013/09/18 23:11', '2013/09/18 16:37', '2013/08/16 19:17', '2013/08/15 21:24', '2013/07/31 08:30', '2013/07/29 11:06', '2013/07/01 03:56', '2013/06/29 17:45', '2013/06/11 22:38', '2013/06/01 00:38', '2013/05/31 17:55', '2013/05/28 09:18', '2013/05/26 09:52', '2013/05/25 00:52', '2013/05/20 06:46', '2013/05/15 22:16', '2013/05/14 08:46', '2013/04/18 22:58', '2013/04/16 01:02', '2012/09/10 22:56']\n"
          ],
          "name": "stdout"
        }
      ]
    },
    {
      "cell_type": "code",
      "metadata": {
        "id": "6b4ZAiCe5J8N"
      },
      "source": [
        "mark_df = pd.DataFrame({'review': reviews, 'date': dates})"
      ],
      "execution_count": null,
      "outputs": []
    },
    {
      "cell_type": "markdown",
      "metadata": {
        "id": "cJJhCnKZusoH"
      },
      "source": [
        "## レビューDFの分析"
      ]
    },
    {
      "cell_type": "code",
      "metadata": {
        "colab": {
          "base_uri": "https://localhost:8080/",
          "height": 204
        },
        "id": "ZriX_Ksl0G9A",
        "outputId": "988ccc28-782f-4fae-ea92-e4ad662920c7"
      },
      "source": [
        "mark_df.head()"
      ],
      "execution_count": null,
      "outputs": [
        {
          "output_type": "execute_result",
          "data": {
            "text/html": [
              "<div>\n",
              "<style scoped>\n",
              "    .dataframe tbody tr th:only-of-type {\n",
              "        vertical-align: middle;\n",
              "    }\n",
              "\n",
              "    .dataframe tbody tr th {\n",
              "        vertical-align: top;\n",
              "    }\n",
              "\n",
              "    .dataframe thead th {\n",
              "        text-align: right;\n",
              "    }\n",
              "</style>\n",
              "<table border=\"1\" class=\"dataframe\">\n",
              "  <thead>\n",
              "    <tr style=\"text-align: right;\">\n",
              "      <th></th>\n",
              "      <th>review</th>\n",
              "      <th>date</th>\n",
              "    </tr>\n",
              "  </thead>\n",
              "  <tbody>\n",
              "    <tr>\n",
              "      <th>0</th>\n",
              "      <td>3.0</td>\n",
              "      <td>2021/02/19 12:50</td>\n",
              "    </tr>\n",
              "    <tr>\n",
              "      <th>1</th>\n",
              "      <td>4.0</td>\n",
              "      <td>2021/02/19 06:19</td>\n",
              "    </tr>\n",
              "    <tr>\n",
              "      <th>2</th>\n",
              "      <td>NaN</td>\n",
              "      <td>2021/02/18 22:44</td>\n",
              "    </tr>\n",
              "    <tr>\n",
              "      <th>3</th>\n",
              "      <td>3.3</td>\n",
              "      <td>2021/02/18 20:42</td>\n",
              "    </tr>\n",
              "    <tr>\n",
              "      <th>4</th>\n",
              "      <td>3.8</td>\n",
              "      <td>2021/02/17 20:12</td>\n",
              "    </tr>\n",
              "  </tbody>\n",
              "</table>\n",
              "</div>"
            ],
            "text/plain": [
              "   review              date\n",
              "0     3.0  2021/02/19 12:50\n",
              "1     4.0  2021/02/19 06:19\n",
              "2     NaN  2021/02/18 22:44\n",
              "3     3.3  2021/02/18 20:42\n",
              "4     3.8  2021/02/17 20:12"
            ]
          },
          "metadata": {
            "tags": []
          },
          "execution_count": 38
        }
      ]
    },
    {
      "cell_type": "code",
      "metadata": {
        "colab": {
          "base_uri": "https://localhost:8080/",
          "height": 297
        },
        "id": "rOWyOJnUMvkh",
        "outputId": "935ca71b-0abd-4830-d8e6-1308f058a871"
      },
      "source": [
        "mark_df.describe()"
      ],
      "execution_count": null,
      "outputs": [
        {
          "output_type": "execute_result",
          "data": {
            "text/html": [
              "<div>\n",
              "<style scoped>\n",
              "    .dataframe tbody tr th:only-of-type {\n",
              "        vertical-align: middle;\n",
              "    }\n",
              "\n",
              "    .dataframe tbody tr th {\n",
              "        vertical-align: top;\n",
              "    }\n",
              "\n",
              "    .dataframe thead th {\n",
              "        text-align: right;\n",
              "    }\n",
              "</style>\n",
              "<table border=\"1\" class=\"dataframe\">\n",
              "  <thead>\n",
              "    <tr style=\"text-align: right;\">\n",
              "      <th></th>\n",
              "      <th>review</th>\n",
              "    </tr>\n",
              "  </thead>\n",
              "  <tbody>\n",
              "    <tr>\n",
              "      <th>count</th>\n",
              "      <td>2056.000000</td>\n",
              "    </tr>\n",
              "    <tr>\n",
              "      <th>mean</th>\n",
              "      <td>3.880982</td>\n",
              "    </tr>\n",
              "    <tr>\n",
              "      <th>std</th>\n",
              "      <td>0.543856</td>\n",
              "    </tr>\n",
              "    <tr>\n",
              "      <th>min</th>\n",
              "      <td>1.000000</td>\n",
              "    </tr>\n",
              "    <tr>\n",
              "      <th>25%</th>\n",
              "      <td>3.600000</td>\n",
              "    </tr>\n",
              "    <tr>\n",
              "      <th>50%</th>\n",
              "      <td>3.900000</td>\n",
              "    </tr>\n",
              "    <tr>\n",
              "      <th>75%</th>\n",
              "      <td>4.200000</td>\n",
              "    </tr>\n",
              "    <tr>\n",
              "      <th>max</th>\n",
              "      <td>5.000000</td>\n",
              "    </tr>\n",
              "  </tbody>\n",
              "</table>\n",
              "</div>"
            ],
            "text/plain": [
              "            review\n",
              "count  2056.000000\n",
              "mean      3.880982\n",
              "std       0.543856\n",
              "min       1.000000\n",
              "25%       3.600000\n",
              "50%       3.900000\n",
              "75%       4.200000\n",
              "max       5.000000"
            ]
          },
          "metadata": {
            "tags": []
          },
          "execution_count": 39
        }
      ]
    },
    {
      "cell_type": "code",
      "metadata": {
        "colab": {
          "base_uri": "https://localhost:8080/",
          "height": 531
        },
        "id": "evsxOuTtNufD",
        "outputId": "964d4f89-53f6-401b-b5d8-392329b900c5"
      },
      "source": [
        "mark_df.hist(bins=40, figsize=(8, 8))"
      ],
      "execution_count": null,
      "outputs": [
        {
          "output_type": "execute_result",
          "data": {
            "text/plain": [
              "array([[<matplotlib.axes._subplots.AxesSubplot object at 0x7f368c70be10>]],\n",
              "      dtype=object)"
            ]
          },
          "metadata": {
            "tags": []
          },
          "execution_count": 40
        },
        {
          "output_type": "display_data",
          "data": {
            "image/png": "[encoded data removed]",
            "text/plain": [
              "<Figure size 576x576 with 1 Axes>"
            ]
          },
          "metadata": {
            "tags": [],
            "needs_background": "light"
          }
        }
      ]
    },
    {
      "cell_type": "markdown",
      "metadata": {
        "id": "ChJiFBKdu2qA"
      },
      "source": [
        "# レビューDFの出力"
      ]
    },
    {
      "cell_type": "code",
      "metadata": {
        "id": "CFODJpT5MVGa"
      },
      "source": [
        "file_name_title = f'{tmdb_id}_{filmarks_id}'\n",
        "mark_df.to_csv(f'./reviews_df/{file_name_title}_reviews.csv', index=False)"
      ],
      "execution_count": null,
      "outputs": []
    },
    {
      "cell_type": "code",
      "metadata": {
        "colab": {
          "base_uri": "https://localhost:8080/",
          "height": 204
        },
        "id": "H2pIlULzEPjw",
        "outputId": "2a7dd679-5af9-4abf-9b72-5cb9f9031126"
      },
      "source": [
        "review_id_df = pd.read_csv('./movies_df/reviews_id.csv')\n",
        "\n",
        "if id_false:\n",
        "  tmdb_id = -1\n",
        "  filmarks_id = -1\n",
        "\n",
        "add_col = {'NO.': [int(number)], 'title': [title], 'TMDb_ID': [int(tmdb_id)], 'Filmarks_ID': [int(filmarks_id)]}\n",
        "add_review_id_df = pd.DataFrame(add_col)\n",
        "\n",
        "new_review_id_df = pd.concat([review_id_df, add_review_id_df]).reset_index(drop=True)\n",
        "\n",
        "new_review_id_df.tail()"
      ],
      "execution_count": null,
      "outputs": [
        {
          "output_type": "execute_result",
          "data": {
            "text/html": [
              "<div>\n",
              "<style scoped>\n",
              "    .dataframe tbody tr th:only-of-type {\n",
              "        vertical-align: middle;\n",
              "    }\n",
              "\n",
              "    .dataframe tbody tr th {\n",
              "        vertical-align: top;\n",
              "    }\n",
              "\n",
              "    .dataframe thead th {\n",
              "        text-align: right;\n",
              "    }\n",
              "</style>\n",
              "<table border=\"1\" class=\"dataframe\">\n",
              "  <thead>\n",
              "    <tr style=\"text-align: right;\">\n",
              "      <th></th>\n",
              "      <th>NO.</th>\n",
              "      <th>title</th>\n",
              "      <th>TMDb_ID</th>\n",
              "      <th>Filmarks_ID</th>\n",
              "    </tr>\n",
              "  </thead>\n",
              "  <tbody>\n",
              "    <tr>\n",
              "      <th>39</th>\n",
              "      <td>39</td>\n",
              "      <td>アメリカン・ヒストリーX</td>\n",
              "      <td>73</td>\n",
              "      <td>17496</td>\n",
              "    </tr>\n",
              "    <tr>\n",
              "      <th>40</th>\n",
              "      <td>40</td>\n",
              "      <td>生きる</td>\n",
              "      <td>3782</td>\n",
              "      <td>8479</td>\n",
              "    </tr>\n",
              "    <tr>\n",
              "      <th>41</th>\n",
              "      <td>41</td>\n",
              "      <td>戦場のピアニスト</td>\n",
              "      <td>423</td>\n",
              "      <td>9783</td>\n",
              "    </tr>\n",
              "    <tr>\n",
              "      <th>42</th>\n",
              "      <td>42</td>\n",
              "      <td>街の灯</td>\n",
              "      <td>901</td>\n",
              "      <td>8965</td>\n",
              "    </tr>\n",
              "    <tr>\n",
              "      <th>43</th>\n",
              "      <td>43</td>\n",
              "      <td>裏窓</td>\n",
              "      <td>567</td>\n",
              "      <td>13436</td>\n",
              "    </tr>\n",
              "  </tbody>\n",
              "</table>\n",
              "</div>"
            ],
            "text/plain": [
              "    NO.         title  TMDb_ID  Filmarks_ID\n",
              "39   39  アメリカン・ヒストリーX       73        17496\n",
              "40   40           生きる     3782         8479\n",
              "41   41      戦場のピアニスト      423         9783\n",
              "42   42           街の灯      901         8965\n",
              "43   43            裏窓      567        13436"
            ]
          },
          "metadata": {
            "tags": []
          },
          "execution_count": 42
        }
      ]
    },
    {
      "cell_type": "code",
      "metadata": {
        "id": "u0Ho9_0dFfBn"
      },
      "source": [
        "new_review_id_df.to_csv('./movies_df/reviews_id.csv', index=False)"
      ],
      "execution_count": null,
      "outputs": []
    }
  ]
}